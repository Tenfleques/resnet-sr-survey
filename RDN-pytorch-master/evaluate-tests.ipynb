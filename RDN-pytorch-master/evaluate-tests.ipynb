{
 "cells": [
  {
   "cell_type": "code",
   "execution_count": 1,
   "metadata": {},
   "outputs": [
    {
     "name": "stdout",
     "output_type": "stream",
     "text": [
      "Collecting pip\n",
      "  Downloading http://repo.myhuaweicloud.com/repository/pypi/packages/00/b6/9cfa56b4081ad13874b0c6f96af8ce16cfbc1cb06bedf8e9164ce5551ec1/pip-19.3.1-py2.py3-none-any.whl (1.4MB)\n",
      "\u001b[K    100% |████████████████████████████████| 1.4MB 126.3MB/s ta 0:00:01\n",
      "\u001b[?25hInstalling collected packages: pip\n",
      "  Found existing installation: pip 9.0.1\n",
      "    Uninstalling pip-9.0.1:\n",
      "      Successfully uninstalled pip-9.0.1\n",
      "Successfully installed pip-19.3.1\n"
     ]
    }
   ],
   "source": [
    "!pip install --upgrade pip"
   ]
  },
  {
   "cell_type": "code",
   "execution_count": 2,
   "metadata": {
    "scrolled": true
   },
   "outputs": [
    {
     "name": "stdout",
     "output_type": "stream",
     "text": [
      "Looking in indexes: http://repo.myhuaweicloud.com/repository/pypi/simple\n",
      "Collecting Numpy>=1.15.4\n",
      "\u001b[?25l  Downloading http://repo.myhuaweicloud.com/repository/pypi/packages/92/e6/45f71bd24f4e37629e9db5fb75caab919507deae6a5a257f9e4685a5f931/numpy-1.18.0-cp36-cp36m-manylinux1_x86_64.whl (20.1MB)\n",
      "\u001b[K     |████████████████████████████████| 20.1MB 64.2MB/s eta 0:00:01K     |▌                               | 307kB 64.2MB/s eta 0:00:01�█▎                       | 5.2MB 64.2MB/s eta 0:00:01�████████████▉                | 10.0MB 64.2MB/s eta 0:00:01.9MB 64.2MB/s eta 0:00:01��████████████████████▉  | 18.8MB 64.2MB/s eta 0:00:01\n",
      "\u001b[?25hCollecting Pillow>=5.4.1\n",
      "\u001b[?25l  Downloading http://repo.myhuaweicloud.com/repository/pypi/packages/10/5c/0e94e689de2476c4c5e644a3bd223a1c1b9e2bdb7c510191750be74fa786/Pillow-6.2.1-cp36-cp36m-manylinux1_x86_64.whl (2.1MB)\n",
      "\u001b[K     |████████████████████████████████| 2.1MB 69.3MB/s eta 0:00:01\n",
      "\u001b[?25hCollecting h5py>=2.8.0\n",
      "\u001b[?25l  Downloading http://repo.myhuaweicloud.com/repository/pypi/packages/60/06/cafdd44889200e5438b897388f3075b52a8ef01f28a17366d91de0fa2d05/h5py-2.10.0-cp36-cp36m-manylinux1_x86_64.whl (2.9MB)\n",
      "\u001b[K     |████████████████████████████████| 2.9MB 28.4MB/s eta 0:00:01\n",
      "\u001b[?25hCollecting tqdm>=4.30.0\n",
      "\u001b[?25l  Downloading http://repo.myhuaweicloud.com/repository/pypi/packages/8c/c3/d049cf3fb31094ee045ec1ee29fffac218c91e82c8838c49ab4c3e52627b/tqdm-4.41.0-py2.py3-none-any.whl (56kB)\n",
      "\u001b[K     |████████████████████████████████| 61kB 69.2MB/s eta 0:00:01\n",
      "\u001b[?25hRequirement already satisfied: six in /home/ma-user/anaconda3/lib/python3.6/site-packages (from h5py>=2.8.0->-r ../requirements.txt (line 3)) (1.13.0)\n",
      "Installing collected packages: Numpy, Pillow, h5py, tqdm\n",
      "  Found existing installation: numpy 1.14.0\n",
      "    Uninstalling numpy-1.14.0:\n",
      "      Successfully uninstalled numpy-1.14.0\n",
      "  Found existing installation: Pillow 5.0.0\n",
      "    Uninstalling Pillow-5.0.0:\n",
      "      Successfully uninstalled Pillow-5.0.0\n",
      "  Found existing installation: h5py 2.7.1\n",
      "    Uninstalling h5py-2.7.1:\n",
      "      Successfully uninstalled h5py-2.7.1\n",
      "Successfully installed Numpy-1.18.0 Pillow-6.2.1 h5py-2.10.0 tqdm-4.41.0\n"
     ]
    }
   ],
   "source": [
    "!pip install -r ../requirements.txt"
   ]
  },
  {
   "cell_type": "code",
   "execution_count": 3,
   "metadata": {},
   "outputs": [
    {
     "name": "stdout",
     "output_type": "stream",
     "text": [
      "Looking in indexes: http://repo.myhuaweicloud.com/repository/pypi/simple\n",
      "Collecting torch\n",
      "\u001b[?25l  Downloading http://repo.myhuaweicloud.com/repository/pypi/packages/88/95/90e8c4c31cfc67248bf944ba42029295b77159982f532c5689bcfe4e9108/torch-1.3.1-cp36-cp36m-manylinux1_x86_64.whl (734.6MB)\n",
      "\u001b[K     |████████████████████████████████| 734.6MB 12.1MB/s eta 0:00:014 | 3.3MB 22.2MB/s eta 0:00:33                    | 8.3MB 22.2MB/s eta 0:00:33 | 12.7MB 22.2MB/s eta 0:00:33B/s eta 0:00:33                | 21.5MB 22.2MB/s eta 0:00:33.4MB 22.2MB/s eta 0:00:32.4MB 22.2MB/s eta 0:00:320:31310:31310:300:30�                            | 78.8MB 22.2MB/s eta 0:00:30                         | 84.1MB 22.2MB/s eta 0:00:30                         | 88.3MB 96.8MB/s eta 0:00:07    | 93.1MB 96.8MB/s eta 0:00:07.0MB 96.8MB/s eta 0:00:07                    | 102.5MB 96.8MB/s eta 0:00:07.8MB/s eta 0:00:07��██▉                           | 111.4MB 96.8MB/s eta 0:00:07��███                           | 115.8MB 96.8MB/s eta 0:00:07��█▎                          | 120.1MB 96.8MB/s eta 0:00:07                  | 124.9MB 96.8MB/s eta 0:00:07��█▋                          | 129.5MB 96.8MB/s eta 0:00:07     |█████▉                          | 134.3MB 96.8MB/s eta 0:00:07  | 139.0MB 96.8MB/s eta 0:00:07[K     |██████▎                         | 143.5MB 96.8MB/s eta 0:00:07�█▍                         | 147.4MB 96.8MB/s eta 0:00:0796.8MB/s eta 0:00:0796.8MB/s eta 0:00:06MB/s eta 0:00:06 0:00:27█████▋                        | 173.5MB 21.4MB/s eta 0:00:272MB 21.4MB/s eta 0:00:26                  | 182.2MB 21.4MB/s eta 0:00:26��████▏                       | 186.7MB 21.4MB/s eta 0:00:26��████▎                       | 191.0MB 21.4MB/s eta 0:00:26��████▌                       | 195.1MB 21.4MB/s eta 0:00:26                    | 199.5MB 21.4MB/s eta 0:00:25| 204.1MB 21.4MB/s eta 0:00:25                    | 208.5MB 21.4MB/s eta 0:00:257MB 21.4MB/s eta 0:00:25��█████▋                      | 220.5MB 21.4MB/s eta 0:00:250MB 21.4MB/s eta 0:00:24��██████                      | 228.7MB 21.4MB/s eta 0:00:24            | 236.8MB 21.4MB/s eta 0:00:24    |██████████▊                     | 245.4MB 115.9MB/s eta 0:00:05█████▉                     | 248.9MB 115.9MB/s eta 0:00:05███████████                     | 252.5MB 115.9MB/s eta 0:00:05ta 0:00:05��███▌                    | 263.4MB 115.9MB/s eta 0:00:0500:05      | 271.1MB 115.9MB/s eta 0:00:04     |████████████                    | 275.3MB 115.9MB/s eta 0:00:045.9MB/s eta 0:00:04��████████▍                   | 283.7MB 115.9MB/s eta 0:00:04        | 286.7MB 115.9MB/s eta 0:00:04██▉                   | 293.7MB 115.9MB/s eta 0:00:045.9MB/s eta 0:00:04��█████████                   | 300.7MB 115.9MB/s eta 0:00:04��██▎                  | 304.0MB 115.9MB/s eta 0:00:04�█████████▍                  | 307.8MB 115.9MB/s eta 0:00:045.9MB/s eta 0:00:04��██▏                 | 326.0MB 96.5MB/s eta 0:00:05/s eta 0:00:05          | 333.9MB 96.5MB/s eta 0:00:05.5MB/s eta 0:00:05      | 341.0MB 96.5MB/s eta 0:00:05          | 344.3MB 96.5MB/s eta 0:00:05�██▏                | 347.4MB 96.5MB/s eta 0:00:05 0:00:04�██████████▍                | 353.5MB 96.5MB/s eta 0:00:04�██▌                | 356.4MB 96.5MB/s eta 0:00:04█████▉                | 363.0MB 96.5MB/s eta 0:00:04�███                | 366.4MB 96.5MB/s eta 0:00:04██████████████                | 369.5MB 96.5MB/s eta 0:00:04:00:04/s eta 0:00:04            | 378.6MB 91.4MB/s eta 0:00:04/s eta 0:00:04            | 384.9MB 91.4MB/s eta 0:00:04            | 387.6MB 91.4MB/s eta 0:00:04��█▏              | 393.3MB 91.4MB/s eta 0:00:04�████████████████▍              | 399.4MB 91.4MB/s eta 0:00:04��█▌              | 402.5MB 91.4MB/s eta 0:00:04�▋              | 405.5MB 91.4MB/s eta 0:00:04��██              | 411.5MB 91.4MB/s eta 0:00:04     |██████████████████              | 414.9MB 91.4MB/s eta 0:00:04��██████████████▏             | 417.9MB 91.4MB/s eta 0:00:04��██████████████▎             | 420.7MB 91.4MB/s eta 0:00:04| 423.9MB 91.4MB/s eta 0:00:04��██████████████▋             | 427.0MB 91.4MB/s eta 0:00:04████████▊             | 429.9MB 91.4MB/s eta 0:00:04███████▉             | 432.9MB 9.6MB/s eta 0:00:32 435.7MB 9.6MB/s eta 0:00:32    |███████████████████             | 438.6MB 9.6MB/s eta 0:00:31     |███████████████████▍            | 444.5MB 9.6MB/s eta 0:00:31   |███████████████████▌            | 447.6MB 9.6MB/s eta 0:00:30     |███████████████████▋            | 450.1MB 9.6MB/s eta 0:00:30�████████████████▊            | 453.4MB 9.6MB/s eta 0:00:30███████████████████▉            | 456.0MB 9.6MB/s eta 0:00:29   |████████████████████            | 458.6MB 9.6MB/s eta 0:00:29██████████████████            | 461.5MB 9.6MB/s eta 0:00:29████████████████▍           | 467.6MB 9.6MB/s eta 0:00:28     | 470.8MB 9.6MB/s eta 0:00:28     | 473.2MB 9.6MB/s eta 0:00:28��███████████████████▊           | 476.1MB 9.6MB/s eta 0:00:27�█████████           | 479.5MB 9.6MB/s eta 0:00:27�█████████           | 482.3MB 9.6MB/s eta 0:00:27███████████████▏          | 485.5MB 92.9MB/s eta 0:00:03  | 488.1MB 92.9MB/s eta 0:00:03███████████████▍          | 490.8MB 92.9MB/s eta 0:00:03███████████████▌          | 494.1MB 92.9MB/s eta 0:00:03��█████▋          | 497.3MB 92.9MB/s eta 0:00:030:03████████████████          | 503.6MB 92.9MB/s eta 0:00:03████████████████          | 506.3MB 92.9MB/s eta 0:00:03:00:03:00:038MB 92.9MB/s eta 0:00:03:00:03:00:03      | 526.1MB 92.9MB/s eta 0:00:03█         | 528.8MB 92.9MB/s eta 0:00:03███████████████████▏        | 531.4MB 92.9MB/s eta 0:00:03��        | 533.9MB 92.9MB/s eta 0:00:03��        | 536.5MB 92.9MB/s eta 0:00:03█████████████▌        | 539.2MB 89.3MB/s eta 0:00:03��        | 541.6MB 89.3MB/s eta 0:00:03█████████████▊        | 544.3MB 89.3MB/s eta 0:00:03��        | 546.7MB 89.3MB/s eta 0:00:03��        | 551.6MB 89.3MB/s eta 0:00:034.1MB 89.3MB/s eta 0:00:03��████████████▎       | 556.7MB 89.3MB/s eta 0:00:02████████████████████▍       | 559.4MB 89.3MB/s eta 0:00:022.1MB 89.3MB/s eta 0:00:020:02�███████████▉       | 570.1MB 89.3MB/s eta 0:00:022.7MB 89.3MB/s eta 0:00:020:02███████▏      | 577.6MB 89.3MB/s eta 0:00:02███████▎      | 580.1MB 89.3MB/s eta 0:00:02�████████████▍      | 582.2MB 89.3MB/s eta 0:00:02��█████████████████▌      | 585.1MB 5.8MB/s eta 0:00:26�█████▋      | 587.6MB 5.8MB/s eta 0:00:26��█████████████████▊      | 590.0MB 5.8MB/s eta 0:00:25�█████▉      | 592.7MB 5.8MB/s eta 0:00:25██████████▏    | 624.7MB 5.8MB/s eta 0:00:19████████████████████▎    | 627.2MB 5.8MB/s eta 0:00:19MB/s eta 0:00:02��███▌    | 631.4MB 59.6MB/s eta 0:00:02█████████████████████████▋    | 633.8MB 59.6MB/s eta 0:00:02█████████▊    | 636.2MB 59.6MB/s eta 0:00:02��███████████████████▉    | 638.6MB 59.6MB/s eta 0:00:02MB/s eta 0:00:02  | 643.9MB 59.6MB/s eta 0:00:026.2MB 59.6MB/s eta 0:00:02��██████▎   | 648.4MB 59.6MB/s eta 0:00:02▍   | 650.8MB 59.6MB/s eta 0:00:02��██████████████████████████▌   | 653.5MB 59.6MB/s eta 0:00:02��████▋   | 655.7MB 59.6MB/s eta 0:00:02�█████████████▊   | 660.3MB 59.6MB/s eta 0:00:02��████████████████▉   | 662.8MB 59.6MB/s eta 0:00:02��█████████████████████████   | 665.0MB 59.6MB/s eta 0:00:02��█████▏  | 669.6MB 59.6MB/s eta 0:00:02███████████████████▍  | 673.7MB 16.4MB/s eta 0:00:04███████████████████▌  | 678.1MB 16.4MB/s eta 0:00:04��█████▋  | 680.4MB 16.4MB/s eta 0:00:04��█████████████████████████▊  | 682.4MB 16.4MB/s eta 0:00:04�████████████▉  | 684.6MB 16.4MB/s eta 0:00:04��██████████████████████████  | 686.9MB 16.4MB/s eta 0:00:03��██████████████████████████  | 689.4MB 16.4MB/s eta 0:00:0316.4MB/s eta 0:00:03ta 0:00:03ta 0:00:0316.4MB/s eta 0:00:03ta 0:00:03ta 0:00:0216.4MB/s eta 0:00:02ta 0:00:0312.1MB/s eta 0:00:03�██████▏| 714.3MB 12.1MB/s eta 0:00:02�██▏| 715.8MB 12.1MB/s eta 0:00:02��███████████████▍| 720.1MB 12.1MB/s eta 0:00:02�██▋| 725.9MB 12.1MB/s eta 0:00:01�██▊| 728.1MB 12.1MB/s eta 0:00:01��███████████████▉| 729.9MB 12.1MB/s eta 0:00:01��███████████████▉| 731.5MB 12.1MB/s eta 0:00:01�███| 733.2MB 12.1MB/s eta 0:00:01\n",
      "\u001b[?25hRequirement already satisfied: numpy in /home/ma-user/anaconda3/lib/python3.6/site-packages (from torch) (1.18.0)\n",
      "Installing collected packages: torch\n",
      "Successfully installed torch-1.3.1\n"
     ]
    }
   ],
   "source": [
    "!pip install torch"
   ]
  },
  {
   "cell_type": "code",
   "execution_count": 4,
   "metadata": {},
   "outputs": [],
   "source": [
    "import torch\n",
    "import torch.backends.cudnn as cudnn\n",
    "import numpy as np\n",
    "import PIL.Image as pil_image\n",
    "\n",
    "from models import RDN\n",
    "\n",
    "import pandas as pd\n",
    "import os\n",
    "\n",
    "from utils import convert_rgb_to_y, denormalize, calc_psnr"
   ]
  },
  {
   "cell_type": "code",
   "execution_count": 5,
   "metadata": {},
   "outputs": [],
   "source": [
    "def test(weights_file, image_file, num_features=64, growth_rate=64, num_blocks=16, num_layers=8, scale=4):\n",
    "    cudnn.benchmark = True\n",
    "    device = torch.device('cuda:0' if torch.cuda.is_available() else 'cpu')\n",
    "\n",
    "    model = RDN(scale_factor=scale,\n",
    "                num_channels=3,\n",
    "                num_features=num_features,\n",
    "                growth_rate=growth_rate,\n",
    "                num_blocks=num_blocks,\n",
    "                num_layers=num_layers).to(device)\n",
    "\n",
    "    state_dict = model.state_dict()\n",
    "    for n, p in torch.load(weights_file, map_location=lambda storage, loc: storage).items():\n",
    "        if n in state_dict.keys():\n",
    "            state_dict[n].copy_(p)\n",
    "        else:\n",
    "            raise KeyError(n)\n",
    "\n",
    "    model.eval()\n",
    "\n",
    "    image = pil_image.open(image_file).convert('RGB')\n",
    "\n",
    "    image_width = (image.width // scale) * scale\n",
    "    image_height = (image.height // scale) * scale\n",
    "\n",
    "    hr = image.resize((image_width, image_height), resample=pil_image.BICUBIC)\n",
    "    lr = hr.resize((hr.width // scale, hr.height // scale), resample=pil_image.BICUBIC)\n",
    "    bicubic = lr.resize((lr.width * scale, lr.height * scale), resample=pil_image.BICUBIC)\n",
    "    bicubic.save(image_file.replace('.png', '_bicubic_x{}.png'.format(scale)))\n",
    "\n",
    "    lr = np.expand_dims(np.array(lr).astype(np.float32).transpose([2, 0, 1]), 0) / 255.0\n",
    "    hr = np.expand_dims(np.array(hr).astype(np.float32).transpose([2, 0, 1]), 0) / 255.0\n",
    "    lr = torch.from_numpy(lr).to(device)\n",
    "    hr = torch.from_numpy(hr).to(device)\n",
    "\n",
    "    with torch.no_grad():\n",
    "        preds = model(lr).squeeze(0)\n",
    "\n",
    "    preds_y = convert_rgb_to_y(denormalize(preds), dim_order='chw')\n",
    "    hr_y = convert_rgb_to_y(denormalize(hr.squeeze(0)), dim_order='chw')\n",
    "\n",
    "    preds_y = preds_y[scale:-scale, scale:-scale]\n",
    "    hr_y = hr_y[scale:-scale, scale:-scale]\n",
    "\n",
    "    psnr = calc_psnr(hr_y, preds_y)\n",
    "#     print('PSNR: {:.2f}'.format(psnr))\n",
    "\n",
    "    output = pil_image.fromarray(denormalize(preds).permute(1, 2, 0).byte().cpu().numpy())\n",
    "    output.save(image_file.replace('.png', '_rdn_x{}.png'.format(scale)))\n",
    "    \n",
    "    return {\n",
    "        \"test_set\" : image_file.split(\"/\")[1],\n",
    "        \"psnr\" : psnr.item()\n",
    "    }"
   ]
  },
  {
   "cell_type": "code",
   "execution_count": 6,
   "metadata": {},
   "outputs": [],
   "source": [
    "models_dir = \"../rdn-results/outputs/x4/\"\n",
    "images_dir = [\"../BSDS100/\", \"../Set5/\", \"../Set14/\", \"../Urban100/\"]"
   ]
  },
  {
   "cell_type": "code",
   "execution_count": 7,
   "metadata": {},
   "outputs": [],
   "source": [
    "test_images = {}\n",
    "for test_dir in images_dir:\n",
    "    f = []\n",
    "    for (dirpath, dirnames, filenames) in os.walk(test_dir):\n",
    "        f.extend(filenames)\n",
    "        break\n",
    "    test_images[test_dir.split(\"/\")[1]] = f"
   ]
  },
  {
   "cell_type": "code",
   "execution_count": 8,
   "metadata": {},
   "outputs": [],
   "source": [
    "five_up = {}\n",
    "for i in test_images.keys():\n",
    "    five_up[i] = test_images[i][:5]"
   ]
  },
  {
   "cell_type": "code",
   "execution_count": 9,
   "metadata": {
    "scrolled": true
   },
   "outputs": [
    {
     "data": {
      "text/html": [
       "<div>\n",
       "<style scoped>\n",
       "    .dataframe tbody tr th:only-of-type {\n",
       "        vertical-align: middle;\n",
       "    }\n",
       "\n",
       "    .dataframe tbody tr th {\n",
       "        vertical-align: top;\n",
       "    }\n",
       "\n",
       "    .dataframe thead th {\n",
       "        text-align: right;\n",
       "    }\n",
       "</style>\n",
       "<table border=\"1\" class=\"dataframe\">\n",
       "  <thead>\n",
       "    <tr style=\"text-align: right;\">\n",
       "      <th></th>\n",
       "      <th>BSDS100</th>\n",
       "      <th>Set14</th>\n",
       "      <th>Set5</th>\n",
       "      <th>Urban100</th>\n",
       "    </tr>\n",
       "  </thead>\n",
       "  <tbody>\n",
       "    <tr>\n",
       "      <th>0</th>\n",
       "      <td>300091_rdn_x4.png</td>\n",
       "      <td>pepper.png</td>\n",
       "      <td>bird.png</td>\n",
       "      <td>img_009_bicubic_x4.png</td>\n",
       "    </tr>\n",
       "    <tr>\n",
       "      <th>1</th>\n",
       "      <td>19021.png</td>\n",
       "      <td>monarch_bicubic_x4.png</td>\n",
       "      <td>woman_rdn_x4.png</td>\n",
       "      <td>img_063.png</td>\n",
       "    </tr>\n",
       "    <tr>\n",
       "      <th>2</th>\n",
       "      <td>208001_bicubic_x4.png</td>\n",
       "      <td>lenna_bicubic_x4.png</td>\n",
       "      <td>head.png</td>\n",
       "      <td>img_098.png</td>\n",
       "    </tr>\n",
       "    <tr>\n",
       "      <th>3</th>\n",
       "      <td>87046_rdn_x4.png</td>\n",
       "      <td>man.png</td>\n",
       "      <td>butterfly_rdn_x4.png</td>\n",
       "      <td>img_008.png</td>\n",
       "    </tr>\n",
       "    <tr>\n",
       "      <th>4</th>\n",
       "      <td>108082_rdn_x4.png</td>\n",
       "      <td>baboon_bicubic_x4.png</td>\n",
       "      <td>head_rdn_x4.png</td>\n",
       "      <td>img_086.png</td>\n",
       "    </tr>\n",
       "  </tbody>\n",
       "</table>\n",
       "</div>"
      ],
      "text/plain": [
       "                 BSDS100                   Set14                  Set5  \\\n",
       "0      300091_rdn_x4.png              pepper.png              bird.png   \n",
       "1              19021.png  monarch_bicubic_x4.png      woman_rdn_x4.png   \n",
       "2  208001_bicubic_x4.png    lenna_bicubic_x4.png              head.png   \n",
       "3       87046_rdn_x4.png                 man.png  butterfly_rdn_x4.png   \n",
       "4      108082_rdn_x4.png   baboon_bicubic_x4.png       head_rdn_x4.png   \n",
       "\n",
       "                 Urban100  \n",
       "0  img_009_bicubic_x4.png  \n",
       "1             img_063.png  \n",
       "2             img_098.png  \n",
       "3             img_008.png  \n",
       "4             img_086.png  "
      ]
     },
     "execution_count": 9,
     "metadata": {},
     "output_type": "execute_result"
    }
   ],
   "source": [
    "pd.DataFrame(five_up)"
   ]
  },
  {
   "cell_type": "code",
   "execution_count": 10,
   "metadata": {},
   "outputs": [],
   "source": [
    "### get best model \n",
    "log_name = \"base.log\"\n",
    "train_log = open(\"../rdn-results/logs/\" + log_name)\n",
    "k = 0\n",
    "train_log_arr = []\n",
    "for i in train_log.read().split(\"\\n\"):\n",
    "    if i:\n",
    "        train_log_arr.append((k, float(i.split(\":\")[1])))\n",
    "        k+=1\n",
    "\n",
    "train_log_arr_sorted = sorted(train_log_arr, reverse=True, key=lambda x: x[1])"
   ]
  },
  {
   "cell_type": "code",
   "execution_count": 11,
   "metadata": {},
   "outputs": [
    {
     "data": {
      "text/plain": [
       "389"
      ]
     },
     "execution_count": 11,
     "metadata": {},
     "output_type": "execute_result"
    }
   ],
   "source": [
    "best_epoch = train_log_arr_sorted[0][0]\n",
    "best_epoch"
   ]
  },
  {
   "cell_type": "code",
   "execution_count": 12,
   "metadata": {},
   "outputs": [],
   "source": [
    "# display learning chart "
   ]
  },
  {
   "cell_type": "code",
   "execution_count": 13,
   "metadata": {},
   "outputs": [],
   "source": [
    "def create_dict_from_train_log(arr):\n",
    "   \n",
    "    return {\"eval psnr\": float(arr[1])}\n",
    "    "
   ]
  },
  {
   "cell_type": "code",
   "execution_count": 14,
   "metadata": {},
   "outputs": [],
   "source": [
    "def process_train_loss_line(line):\n",
    "    loss_arr = line.split(\"[\")[-1].split(\", \")[-1].replace(\"]\", \"\").split(\"=\")\n",
    "    epoch = line.split(\":\")[1].split(\"/\")[0]\n",
    "    \n",
    "    return {\"epoch\" : epoch, loss_arr[0] : float(loss_arr[1])}\n",
    "    \n",
    "    "
   ]
  },
  {
   "cell_type": "markdown",
   "metadata": {},
   "source": [
    "### parse the training log copied from std output during training "
   ]
  },
  {
   "cell_type": "code",
   "execution_count": 15,
   "metadata": {},
   "outputs": [
    {
     "data": {
      "text/html": [
       "<div>\n",
       "<style scoped>\n",
       "    .dataframe tbody tr th:only-of-type {\n",
       "        vertical-align: middle;\n",
       "    }\n",
       "\n",
       "    .dataframe tbody tr th {\n",
       "        vertical-align: top;\n",
       "    }\n",
       "\n",
       "    .dataframe thead th {\n",
       "        text-align: right;\n",
       "    }\n",
       "</style>\n",
       "<table border=\"1\" class=\"dataframe\">\n",
       "  <thead>\n",
       "    <tr style=\"text-align: right;\">\n",
       "      <th></th>\n",
       "      <th>epoch</th>\n",
       "      <th>loss</th>\n",
       "    </tr>\n",
       "  </thead>\n",
       "  <tbody>\n",
       "    <tr>\n",
       "      <th>0</th>\n",
       "      <td>0</td>\n",
       "      <td>0.068386</td>\n",
       "    </tr>\n",
       "    <tr>\n",
       "      <th>1</th>\n",
       "      <td>1</td>\n",
       "      <td>0.035733</td>\n",
       "    </tr>\n",
       "    <tr>\n",
       "      <th>2</th>\n",
       "      <td>2</td>\n",
       "      <td>0.033469</td>\n",
       "    </tr>\n",
       "    <tr>\n",
       "      <th>3</th>\n",
       "      <td>3</td>\n",
       "      <td>0.031551</td>\n",
       "    </tr>\n",
       "    <tr>\n",
       "      <th>4</th>\n",
       "      <td>4</td>\n",
       "      <td>0.031076</td>\n",
       "    </tr>\n",
       "  </tbody>\n",
       "</table>\n",
       "</div>"
      ],
      "text/plain": [
       "  epoch      loss\n",
       "0     0  0.068386\n",
       "1     1  0.035733\n",
       "2     2  0.033469\n",
       "3     3  0.031551\n",
       "4     4  0.031076"
      ]
     },
     "execution_count": 15,
     "metadata": {},
     "output_type": "execute_result"
    }
   ],
   "source": [
    "train_log_loss = open(\"../rdn-results/logs/train-loss.log\")\n",
    "train_log_loss_arr = [process_train_loss_line(i) for i in train_log_loss.read().split(\"\\n\") if \"epoch\" in i]\n",
    "df_train_loss = pd.DataFrame(train_log_loss_arr)\n",
    "df_train_loss.head()"
   ]
  },
  {
   "cell_type": "code",
   "execution_count": 16,
   "metadata": {
    "scrolled": true
   },
   "outputs": [
    {
     "data": {
      "text/plain": [
       "<matplotlib.axes._subplots.AxesSubplot at 0x7f3d40a50e10>"
      ]
     },
     "execution_count": 16,
     "metadata": {},
     "output_type": "execute_result"
    }
   ],
   "source": [
    "df_train_loss[\"loss\"].plot(figsize=(15, 5))"
   ]
  },
  {
   "cell_type": "code",
   "execution_count": 17,
   "metadata": {},
   "outputs": [],
   "source": [
    "train_log_dicts = [ create_dict_from_train_log(i) for i in train_log_arr[:-1]]"
   ]
  },
  {
   "cell_type": "code",
   "execution_count": 18,
   "metadata": {
    "scrolled": true
   },
   "outputs": [
    {
     "data": {
      "text/html": [
       "<div>\n",
       "<style scoped>\n",
       "    .dataframe tbody tr th:only-of-type {\n",
       "        vertical-align: middle;\n",
       "    }\n",
       "\n",
       "    .dataframe tbody tr th {\n",
       "        vertical-align: top;\n",
       "    }\n",
       "\n",
       "    .dataframe thead th {\n",
       "        text-align: right;\n",
       "    }\n",
       "</style>\n",
       "<table border=\"1\" class=\"dataframe\">\n",
       "  <thead>\n",
       "    <tr style=\"text-align: right;\">\n",
       "      <th></th>\n",
       "      <th>eval psnr</th>\n",
       "    </tr>\n",
       "  </thead>\n",
       "  <tbody>\n",
       "    <tr>\n",
       "      <th>0</th>\n",
       "      <td>28.01</td>\n",
       "    </tr>\n",
       "    <tr>\n",
       "      <th>1</th>\n",
       "      <td>28.84</td>\n",
       "    </tr>\n",
       "    <tr>\n",
       "      <th>2</th>\n",
       "      <td>29.03</td>\n",
       "    </tr>\n",
       "    <tr>\n",
       "      <th>3</th>\n",
       "      <td>29.09</td>\n",
       "    </tr>\n",
       "    <tr>\n",
       "      <th>4</th>\n",
       "      <td>28.99</td>\n",
       "    </tr>\n",
       "  </tbody>\n",
       "</table>\n",
       "</div>"
      ],
      "text/plain": [
       "   eval psnr\n",
       "0      28.01\n",
       "1      28.84\n",
       "2      29.03\n",
       "3      29.09\n",
       "4      28.99"
      ]
     },
     "execution_count": 18,
     "metadata": {},
     "output_type": "execute_result"
    }
   ],
   "source": [
    "train_df = pd.DataFrame(train_log_dicts)\n",
    "train_df.head()"
   ]
  },
  {
   "cell_type": "markdown",
   "metadata": {},
   "source": [
    "### progression of psnr across epochs"
   ]
  },
  {
   "cell_type": "code",
   "execution_count": 19,
   "metadata": {},
   "outputs": [
    {
     "data": {
      "text/plain": [
       "<matplotlib.axes._subplots.AxesSubplot at 0x7f3d4075cd30>"
      ]
     },
     "execution_count": 19,
     "metadata": {},
     "output_type": "execute_result"
    },
    {
     "data": {
      "image/png": "[encoded data removed]",
      "text/plain": [
       "<matplotlib.figure.Figure at 0x7f3d4075c668>"
      ]
     },
     "metadata": {},
     "output_type": "display_data"
    }
   ],
   "source": [
    "train_df.plot(figsize=(15, 5))"
   ]
  },
  {
   "cell_type": "code",
   "execution_count": 20,
   "metadata": {},
   "outputs": [
    {
     "data": {
      "text/plain": [
       "(True, '../rdn-results/outputs/x4/epoch_389.pth')"
      ]
     },
     "execution_count": 20,
     "metadata": {},
     "output_type": "execute_result"
    }
   ],
   "source": [
    "weights_file = models_dir + \"best.pth\"\n",
    "\n",
    "if not os.path.isfile(weights_file):\n",
    "    weights_file = models_dir + \"epoch_{}.pth\".format(best_epoch)\n",
    "\n",
    "os.path.isfile(weights_file), weights_file"
   ]
  },
  {
   "cell_type": "code",
   "execution_count": 21,
   "metadata": {},
   "outputs": [
    {
     "name": "stdout",
     "output_type": "stream",
     "text": [
      "testing BSDS100\n",
      "testing Set5\n",
      "testing Set14\n",
      "testing Urban100\n"
     ]
    }
   ],
   "source": [
    "test_results = []\n",
    "if os.path.isfile(weights_file):\n",
    "    for key in test_images.keys():\n",
    "        max_images = 0\n",
    "        print (\"testing \" + key)\n",
    "        for image in test_images[key]:\n",
    "            if not (\"_rdn_x4\" in image or \"_bicubic_x\" in image):\n",
    "                image_file = \"../\" + key + \"/\" + image\n",
    "                test_results.append(test(weights_file, image_file))\n",
    "                max_images += 1\n",
    "            "
   ]
  },
  {
   "cell_type": "code",
   "execution_count": 22,
   "metadata": {},
   "outputs": [],
   "source": [
    "def get_test_report(array_of_dicts, dataset):\n",
    "    this_arr = [i for i in array_of_dicts if dataset == i[\"test_set\"] ]\n",
    "    return pd.DataFrame(this_arr)"
   ]
  },
  {
   "cell_type": "code",
   "execution_count": 23,
   "metadata": {},
   "outputs": [],
   "source": [
    "import json \n",
    "\n",
    "with open(\"../rdn-results/logs/test-results.json\", mode='w', encoding='utf-8') as f:\n",
    "    json.dump(test_results, f)\n"
   ]
  },
  {
   "cell_type": "code",
   "execution_count": 24,
   "metadata": {},
   "outputs": [],
   "source": [
    "stats_BSDS100 = get_test_report(test_results, \"BSDS100\")"
   ]
  },
  {
   "cell_type": "code",
   "execution_count": 25,
   "metadata": {},
   "outputs": [
    {
     "data": {
      "text/plain": [
       "count    100.000000\n",
       "mean      28.554810\n",
       "std        3.827777\n",
       "min       21.135981\n",
       "25%       25.967616\n",
       "50%       28.140200\n",
       "75%       30.540191\n",
       "max       41.205368\n",
       "Name: psnr, dtype: float64"
      ]
     },
     "execution_count": 25,
     "metadata": {},
     "output_type": "execute_result"
    }
   ],
   "source": [
    "stats_BSDS100[\"psnr\"].describe()"
   ]
  },
  {
   "cell_type": "code",
   "execution_count": 26,
   "metadata": {},
   "outputs": [
    {
     "data": {
      "text/plain": [
       "<matplotlib.axes._subplots.AxesSubplot at 0x7f3d405b1e10>"
      ]
     },
     "execution_count": 26,
     "metadata": {},
     "output_type": "execute_result"
    },
    {
     "data": {
      "image/png": "[encoded data removed]",
      "text/plain": [
       "<matplotlib.figure.Figure at 0x7f3d40434eb8>"
      ]
     },
     "metadata": {},
     "output_type": "display_data"
    }
   ],
   "source": [
    "stats_BSDS100.plot.bar(figsize=(20,5))"
   ]
  },
  {
   "cell_type": "code",
   "execution_count": 27,
   "metadata": {},
   "outputs": [
    {
     "data": {
      "text/html": [
       "<div>\n",
       "<style scoped>\n",
       "    .dataframe tbody tr th:only-of-type {\n",
       "        vertical-align: middle;\n",
       "    }\n",
       "\n",
       "    .dataframe tbody tr th {\n",
       "        vertical-align: top;\n",
       "    }\n",
       "\n",
       "    .dataframe thead th {\n",
       "        text-align: right;\n",
       "    }\n",
       "</style>\n",
       "<table border=\"1\" class=\"dataframe\">\n",
       "  <thead>\n",
       "    <tr style=\"text-align: right;\">\n",
       "      <th></th>\n",
       "      <th>psnr</th>\n",
       "    </tr>\n",
       "  </thead>\n",
       "  <tbody>\n",
       "    <tr>\n",
       "      <th>count</th>\n",
       "      <td>5.000000</td>\n",
       "    </tr>\n",
       "    <tr>\n",
       "      <th>mean</th>\n",
       "      <td>32.241211</td>\n",
       "    </tr>\n",
       "    <tr>\n",
       "      <th>std</th>\n",
       "      <td>2.623678</td>\n",
       "    </tr>\n",
       "    <tr>\n",
       "      <th>min</th>\n",
       "      <td>28.590965</td>\n",
       "    </tr>\n",
       "    <tr>\n",
       "      <th>25%</th>\n",
       "      <td>30.622101</td>\n",
       "    </tr>\n",
       "    <tr>\n",
       "      <th>50%</th>\n",
       "      <td>33.019463</td>\n",
       "    </tr>\n",
       "    <tr>\n",
       "      <th>75%</th>\n",
       "      <td>33.816597</td>\n",
       "    </tr>\n",
       "    <tr>\n",
       "      <th>max</th>\n",
       "      <td>35.156929</td>\n",
       "    </tr>\n",
       "  </tbody>\n",
       "</table>\n",
       "</div>"
      ],
      "text/plain": [
       "            psnr\n",
       "count   5.000000\n",
       "mean   32.241211\n",
       "std     2.623678\n",
       "min    28.590965\n",
       "25%    30.622101\n",
       "50%    33.019463\n",
       "75%    33.816597\n",
       "max    35.156929"
      ]
     },
     "execution_count": 27,
     "metadata": {},
     "output_type": "execute_result"
    }
   ],
   "source": [
    "stats_Set5 = get_test_report(test_results, \"Set5\")\n",
    "stats_Set5.describe()"
   ]
  },
  {
   "cell_type": "code",
   "execution_count": 28,
   "metadata": {},
   "outputs": [
    {
     "data": {
      "text/plain": [
       "<matplotlib.axes._subplots.AxesSubplot at 0x7f3d40573b70>"
      ]
     },
     "execution_count": 28,
     "metadata": {},
     "output_type": "execute_result"
    },
    {
     "data": {
      "image/png": "[encoded data removed]",
      "text/plain": [
       "<matplotlib.figure.Figure at 0x7f3d404bcc50>"
      ]
     },
     "metadata": {},
     "output_type": "display_data"
    }
   ],
   "source": [
    "stats_Set5.plot.bar(figsize = (15,5))"
   ]
  },
  {
   "cell_type": "code",
   "execution_count": 29,
   "metadata": {},
   "outputs": [
    {
     "data": {
      "text/html": [
       "<div>\n",
       "<style scoped>\n",
       "    .dataframe tbody tr th:only-of-type {\n",
       "        vertical-align: middle;\n",
       "    }\n",
       "\n",
       "    .dataframe tbody tr th {\n",
       "        vertical-align: top;\n",
       "    }\n",
       "\n",
       "    .dataframe thead th {\n",
       "        text-align: right;\n",
       "    }\n",
       "</style>\n",
       "<table border=\"1\" class=\"dataframe\">\n",
       "  <thead>\n",
       "    <tr style=\"text-align: right;\">\n",
       "      <th></th>\n",
       "      <th>psnr</th>\n",
       "    </tr>\n",
       "  </thead>\n",
       "  <tbody>\n",
       "    <tr>\n",
       "      <th>count</th>\n",
       "      <td>14.000000</td>\n",
       "    </tr>\n",
       "    <tr>\n",
       "      <th>mean</th>\n",
       "      <td>28.784768</td>\n",
       "    </tr>\n",
       "    <tr>\n",
       "      <th>std</th>\n",
       "      <td>3.846499</td>\n",
       "    </tr>\n",
       "    <tr>\n",
       "      <th>min</th>\n",
       "      <td>23.047039</td>\n",
       "    </tr>\n",
       "    <tr>\n",
       "      <th>25%</th>\n",
       "      <td>26.104673</td>\n",
       "    </tr>\n",
       "    <tr>\n",
       "      <th>50%</th>\n",
       "      <td>27.716413</td>\n",
       "    </tr>\n",
       "    <tr>\n",
       "      <th>75%</th>\n",
       "      <td>32.864927</td>\n",
       "    </tr>\n",
       "    <tr>\n",
       "      <th>max</th>\n",
       "      <td>34.389767</td>\n",
       "    </tr>\n",
       "  </tbody>\n",
       "</table>\n",
       "</div>"
      ],
      "text/plain": [
       "            psnr\n",
       "count  14.000000\n",
       "mean   28.784768\n",
       "std     3.846499\n",
       "min    23.047039\n",
       "25%    26.104673\n",
       "50%    27.716413\n",
       "75%    32.864927\n",
       "max    34.389767"
      ]
     },
     "execution_count": 29,
     "metadata": {},
     "output_type": "execute_result"
    }
   ],
   "source": [
    "stats_Set14 = get_test_report(test_results, \"Set14\")\n",
    "stats_Set14.describe()"
   ]
  },
  {
   "cell_type": "code",
   "execution_count": 30,
   "metadata": {},
   "outputs": [
    {
     "data": {
      "text/plain": [
       "<matplotlib.axes._subplots.AxesSubplot at 0x7f251849f748>"
      ]
     },
     "execution_count": 30,
     "metadata": {},
     "output_type": "execute_result"
    },
    {
     "data": {
      "image/png": "[encoded data removed]",
      "text/plain": [
       "<matplotlib.figure.Figure at 0x7f3d40400e10>"
      ]
     },
     "metadata": {},
     "output_type": "display_data"
    }
   ],
   "source": [
    "stats_Set14.plot.bar(figsize = (15,5))"
   ]
  },
  {
   "cell_type": "code",
   "execution_count": 31,
   "metadata": {},
   "outputs": [
    {
     "data": {
      "text/html": [
       "<div>\n",
       "<style scoped>\n",
       "    .dataframe tbody tr th:only-of-type {\n",
       "        vertical-align: middle;\n",
       "    }\n",
       "\n",
       "    .dataframe tbody tr th {\n",
       "        vertical-align: top;\n",
       "    }\n",
       "\n",
       "    .dataframe thead th {\n",
       "        text-align: right;\n",
       "    }\n",
       "</style>\n",
       "<table border=\"1\" class=\"dataframe\">\n",
       "  <thead>\n",
       "    <tr style=\"text-align: right;\">\n",
       "      <th></th>\n",
       "      <th>psnr</th>\n",
       "    </tr>\n",
       "  </thead>\n",
       "  <tbody>\n",
       "    <tr>\n",
       "      <th>count</th>\n",
       "      <td>100.000000</td>\n",
       "    </tr>\n",
       "    <tr>\n",
       "      <th>mean</th>\n",
       "      <td>26.116822</td>\n",
       "    </tr>\n",
       "    <tr>\n",
       "      <th>std</th>\n",
       "      <td>4.129834</td>\n",
       "    </tr>\n",
       "    <tr>\n",
       "      <th>min</th>\n",
       "      <td>17.743006</td>\n",
       "    </tr>\n",
       "    <tr>\n",
       "      <th>25%</th>\n",
       "      <td>22.670436</td>\n",
       "    </tr>\n",
       "    <tr>\n",
       "      <th>50%</th>\n",
       "      <td>26.207972</td>\n",
       "    </tr>\n",
       "    <tr>\n",
       "      <th>75%</th>\n",
       "      <td>28.585055</td>\n",
       "    </tr>\n",
       "    <tr>\n",
       "      <th>max</th>\n",
       "      <td>38.439369</td>\n",
       "    </tr>\n",
       "  </tbody>\n",
       "</table>\n",
       "</div>"
      ],
      "text/plain": [
       "             psnr\n",
       "count  100.000000\n",
       "mean    26.116822\n",
       "std      4.129834\n",
       "min     17.743006\n",
       "25%     22.670436\n",
       "50%     26.207972\n",
       "75%     28.585055\n",
       "max     38.439369"
      ]
     },
     "execution_count": 31,
     "metadata": {},
     "output_type": "execute_result"
    }
   ],
   "source": [
    "stats_Urban100 = get_test_report(test_results, \"Urban100\")\n",
    "stats_Urban100.describe()"
   ]
  },
  {
   "cell_type": "code",
   "execution_count": 32,
   "metadata": {},
   "outputs": [
    {
     "data": {
      "text/plain": [
       "<matplotlib.axes._subplots.AxesSubplot at 0x7f3d405b1048>"
      ]
     },
     "execution_count": 32,
     "metadata": {},
     "output_type": "execute_result"
    },
    {
     "data": {
      "image/png": "[encoded data removed]",
      "text/plain": [
       "<matplotlib.figure.Figure at 0x7f25183dfba8>"
      ]
     },
     "metadata": {},
     "output_type": "display_data"
    }
   ],
   "source": [
    "stats_Urban100.plot.bar(figsize = (15,5))"
   ]
  },
  {
   "cell_type": "code",
   "execution_count": null,
   "metadata": {},
   "outputs": [],
   "source": [
    "!git status"
   ]
  },
  {
   "cell_type": "code",
   "execution_count": null,
   "metadata": {},
   "outputs": [],
   "source": []
  }
 ],
 "metadata": {
  "kernelspec": {
   "display_name": "Conda-python3",
   "language": "python",
   "name": "conda-python3"
  },
  "language_info": {
   "codemirror_mode": {
    "name": "ipython",
    "version": 3
   },
   "file_extension": ".py",
   "mimetype": "text/x-python",
   "name": "python",
   "nbconvert_exporter": "python",
   "pygments_lexer": "ipython3",
   "version": "3.6.4"
  }
 },
 "nbformat": 4,
 "nbformat_minor": 2
}
