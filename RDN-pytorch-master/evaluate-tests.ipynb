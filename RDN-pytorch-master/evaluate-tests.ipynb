{
 "cells": [
  {
   "cell_type": "code",
   "execution_count": null,
   "metadata": {},
   "outputs": [],
   "source": [
    "!pip install --upgrade pip"
   ]
  },
  {
   "cell_type": "code",
   "execution_count": null,
   "metadata": {
    "scrolled": true
   },
   "outputs": [],
   "source": [
    "!pip install -r ../requirements.txt"
   ]
  },
  {
   "cell_type": "code",
   "execution_count": null,
   "metadata": {},
   "outputs": [],
   "source": [
    "!pip install torch"
   ]
  },
  {
   "cell_type": "code",
   "execution_count": 1,
   "metadata": {},
   "outputs": [],
   "source": [
    "import torch\n",
    "import torch.backends.cudnn as cudnn\n",
    "import numpy as np\n",
    "import PIL.Image as pil_image\n",
    "\n",
    "from models import RDN\n",
    "\n",
    "import pandas as pd\n",
    "import os\n",
    "\n",
    "from utils import convert_rgb_to_y, denormalize, calc_psnr"
   ]
  },
  {
   "cell_type": "code",
   "execution_count": 2,
   "metadata": {},
   "outputs": [],
   "source": [
    "def test(weights_file, image_file, num_features=64, growth_rate=64, num_blocks=16, num_layers=8, scale=4):\n",
    "    cudnn.benchmark = True\n",
    "    device = torch.device('cuda:0' if torch.cuda.is_available() else 'cpu')\n",
    "\n",
    "    model = RDN(scale_factor=scale,\n",
    "                num_channels=3,\n",
    "                num_features=num_features,\n",
    "                growth_rate=growth_rate,\n",
    "                num_blocks=num_blocks,\n",
    "                num_layers=num_layers).to(device)\n",
    "\n",
    "    state_dict = model.state_dict()\n",
    "    for n, p in torch.load(weights_file, map_location=lambda storage, loc: storage).items():\n",
    "        if n in state_dict.keys():\n",
    "            state_dict[n].copy_(p)\n",
    "        else:\n",
    "            raise KeyError(n)\n",
    "\n",
    "    model.eval()\n",
    "\n",
    "    image = pil_image.open(image_file).convert('RGB')\n",
    "\n",
    "    image_width = (image.width // scale) * scale\n",
    "    image_height = (image.height // scale) * scale\n",
    "\n",
    "    hr = image.resize((image_width, image_height), resample=pil_image.BICUBIC)\n",
    "    lr = hr.resize((hr.width // scale, hr.height // scale), resample=pil_image.BICUBIC)\n",
    "    bicubic = lr.resize((lr.width * scale, lr.height * scale), resample=pil_image.BICUBIC)\n",
    "    bicubic.save(image_file.replace('.png', '_bicubic_x{}.png'.format(scale)))\n",
    "\n",
    "    lr = np.expand_dims(np.array(lr).astype(np.float32).transpose([2, 0, 1]), 0) / 255.0\n",
    "    hr = np.expand_dims(np.array(hr).astype(np.float32).transpose([2, 0, 1]), 0) / 255.0\n",
    "    lr = torch.from_numpy(lr).to(device)\n",
    "    hr = torch.from_numpy(hr).to(device)\n",
    "\n",
    "    with torch.no_grad():\n",
    "        preds = model(lr).squeeze(0)\n",
    "\n",
    "    preds_y = convert_rgb_to_y(denormalize(preds), dim_order='chw')\n",
    "    hr_y = convert_rgb_to_y(denormalize(hr.squeeze(0)), dim_order='chw')\n",
    "\n",
    "    preds_y = preds_y[scale:-scale, scale:-scale]\n",
    "    hr_y = hr_y[scale:-scale, scale:-scale]\n",
    "\n",
    "    psnr = calc_psnr(hr_y, preds_y)\n",
    "#     print('PSNR: {:.2f}'.format(psnr))\n",
    "\n",
    "    output = pil_image.fromarray(denormalize(preds).permute(1, 2, 0).byte().cpu().numpy())\n",
    "    output.save(image_file.replace('.png', '_rdn_x{}.png'.format(scale)))\n",
    "    \n",
    "    return {\n",
    "        \"test_set\" : image_file.split(\"/\")[1],\n",
    "        \"psnr\" : psnr.item()\n",
    "    }"
   ]
  },
  {
   "cell_type": "code",
   "execution_count": 3,
   "metadata": {},
   "outputs": [],
   "source": [
    "models_dir = \"../rdn-results/outputs/x4/\"\n",
    "images_dir = [\"../BSDS100/\", \"../Set5/\", \"../Set14/\", \"../Urban100/\"]"
   ]
  },
  {
   "cell_type": "code",
   "execution_count": 4,
   "metadata": {},
   "outputs": [],
   "source": [
    "test_images = {}\n",
    "for test_dir in images_dir:\n",
    "    f = []\n",
    "    for (dirpath, dirnames, filenames) in os.walk(test_dir):\n",
    "        f.extend(filenames)\n",
    "        break\n",
    "    test_images[test_dir.split(\"/\")[1]] = f"
   ]
  },
  {
   "cell_type": "code",
   "execution_count": 5,
   "metadata": {},
   "outputs": [
    {
     "data": {
      "text/plain": [
       "{'BSDS100': ['19021.png',\n",
       "  '97033.png',\n",
       "  '21077.png',\n",
       "  '304074.png',\n",
       "  '253027.png',\n",
       "  '38082.png',\n",
       "  '58060.png',\n",
       "  '175043.png',\n",
       "  '102061.png',\n",
       "  '42049.png',\n",
       "  '167083.png',\n",
       "  '106024.png',\n",
       "  '208001.png',\n",
       "  '216081.png',\n",
       "  '41069.png',\n",
       "  '119082.png',\n",
       "  '304034.png',\n",
       "  '3096.png',\n",
       "  '229036.png',\n",
       "  '285079.png',\n",
       "  '105025.png',\n",
       "  '8023.png',\n",
       "  '385039.png',\n",
       "  '43074.png',\n",
       "  '69040.png',\n",
       "  '69015.png',\n",
       "  '108082.png',\n",
       "  '220075.png',\n",
       "  '86068.png',\n",
       "  '159008.png',\n",
       "  '126007.png',\n",
       "  '163085.png',\n",
       "  '300091.png',\n",
       "  '197017.png',\n",
       "  '236037.png',\n",
       "  '253055.png',\n",
       "  '101085.png',\n",
       "  '62096.png',\n",
       "  '38092.png',\n",
       "  '103070.png',\n",
       "  '42012.png',\n",
       "  '86016.png',\n",
       "  '130026.png',\n",
       "  '85048.png',\n",
       "  '108070.png',\n",
       "  '296059.png',\n",
       "  '109053.png',\n",
       "  '160068.png',\n",
       "  '148026.png',\n",
       "  '189080.png',\n",
       "  '134035.png',\n",
       "  '37073.png',\n",
       "  '223061.png',\n",
       "  '299086.png',\n",
       "  '175032.png',\n",
       "  '86000.png',\n",
       "  '170057.png',\n",
       "  '291000.png',\n",
       "  '210088.png',\n",
       "  '143090.png',\n",
       "  '69020.png',\n",
       "  '219090.png',\n",
       "  '76053.png',\n",
       "  '78004.png',\n",
       "  '33039.png',\n",
       "  '14037.png',\n",
       "  '306005.png',\n",
       "  '87046.png',\n",
       "  '12084.png',\n",
       "  '54082.png',\n",
       "  '123074.png',\n",
       "  '108005.png',\n",
       "  '241004.png',\n",
       "  '296007.png',\n",
       "  '55073.png',\n",
       "  '45096.png',\n",
       "  '302008.png',\n",
       "  '376043.png',\n",
       "  '157055.png',\n",
       "  '145086.png',\n",
       "  '148089.png',\n",
       "  '167062.png',\n",
       "  '361010.png',\n",
       "  '65033.png',\n",
       "  '271035.png',\n",
       "  '24077.png',\n",
       "  '66053.png',\n",
       "  '260058.png',\n",
       "  '147091.png',\n",
       "  '89072.png',\n",
       "  '182053.png',\n",
       "  '41033.png',\n",
       "  '295087.png',\n",
       "  '351093.png',\n",
       "  '196073.png',\n",
       "  '16077.png',\n",
       "  '156065.png',\n",
       "  '227092.png',\n",
       "  '101087.png',\n",
       "  '241048.png'],\n",
       " 'Set14': ['pepper.png',\n",
       "  'man.png',\n",
       "  'ppt3.png',\n",
       "  'bridge.png',\n",
       "  'coastguard.png',\n",
       "  'monarch.png',\n",
       "  'barbara.png',\n",
       "  'face.png',\n",
       "  'comic.png',\n",
       "  'lenna.png',\n",
       "  'flowers.png',\n",
       "  'foreman.png',\n",
       "  'baboon.png',\n",
       "  'zebra.png'],\n",
       " 'Set5': ['bird.png', 'head.png', 'woman.png', 'butterfly.png', 'baby.png'],\n",
       " 'Urban100': ['img_063.png',\n",
       "  'img_098.png',\n",
       "  'img_008.png',\n",
       "  'img_086.png',\n",
       "  'img_002.png',\n",
       "  'img_057.png',\n",
       "  'img_084.png',\n",
       "  'img_077.png',\n",
       "  'img_099.png',\n",
       "  'img_028.png',\n",
       "  'img_068.png',\n",
       "  'img_088.png',\n",
       "  'img_036.png',\n",
       "  'img_050.png',\n",
       "  'img_013.png',\n",
       "  'img_071.png',\n",
       "  'img_003.png',\n",
       "  'img_001.png',\n",
       "  'img_062.png',\n",
       "  'img_037.png',\n",
       "  'img_051.png',\n",
       "  'img_100.png',\n",
       "  'img_078.png',\n",
       "  'img_012.png',\n",
       "  'img_070.png',\n",
       "  'img_059.png',\n",
       "  'img_058.png',\n",
       "  'img_039.png',\n",
       "  'img_056.png',\n",
       "  'img_097.png',\n",
       "  'img_021.png',\n",
       "  'img_047.png',\n",
       "  'img_043.png',\n",
       "  'img_066.png',\n",
       "  'img_018.png',\n",
       "  'img_052.png',\n",
       "  'img_087.png',\n",
       "  'img_096.png',\n",
       "  'img_019.png',\n",
       "  'img_074.png',\n",
       "  'img_090.png',\n",
       "  'img_004.png',\n",
       "  'img_031.png',\n",
       "  'img_092.png',\n",
       "  'img_011.png',\n",
       "  'img_075.png',\n",
       "  'img_007.png',\n",
       "  'img_060.png',\n",
       "  'img_085.png',\n",
       "  'img_082.png',\n",
       "  'img_055.png',\n",
       "  'img_029.png',\n",
       "  'img_034.png',\n",
       "  'img_054.png',\n",
       "  'img_022.png',\n",
       "  'img_046.png',\n",
       "  'img_065.png',\n",
       "  'img_081.png',\n",
       "  'img_014.png',\n",
       "  'img_024.png',\n",
       "  'img_076.png',\n",
       "  'img_080.png',\n",
       "  'img_079.png',\n",
       "  'img_010.png',\n",
       "  'img_005.png',\n",
       "  'img_067.png',\n",
       "  'img_072.png',\n",
       "  'img_049.png',\n",
       "  'img_069.png',\n",
       "  'img_027.png',\n",
       "  'img_026.png',\n",
       "  'img_033.png',\n",
       "  'img_094.png',\n",
       "  'img_006.png',\n",
       "  'img_016.png',\n",
       "  'img_053.png',\n",
       "  'img_017.png',\n",
       "  'img_009.png',\n",
       "  'img_089.png',\n",
       "  'img_020.png',\n",
       "  'img_042.png',\n",
       "  'img_015.png',\n",
       "  'img_073.png',\n",
       "  'img_040.png',\n",
       "  'img_064.png',\n",
       "  'img_041.png',\n",
       "  'img_093.png',\n",
       "  'img_045.png',\n",
       "  'img_038.png',\n",
       "  'img_091.png',\n",
       "  'img_044.png',\n",
       "  'img_035.png',\n",
       "  'img_061.png',\n",
       "  'img_032.png',\n",
       "  'img_023.png',\n",
       "  'img_025.png',\n",
       "  'img_083.png',\n",
       "  'img_030.png',\n",
       "  'img_048.png',\n",
       "  'img_095.png']}"
      ]
     },
     "execution_count": 5,
     "metadata": {},
     "output_type": "execute_result"
    }
   ],
   "source": [
    "test_images"
   ]
  },
  {
   "cell_type": "code",
   "execution_count": 6,
   "metadata": {},
   "outputs": [
    {
     "data": {
      "text/plain": [
       "{'BSDS100': ['19021.png',\n",
       "  '97033.png',\n",
       "  '21077.png',\n",
       "  '304074.png',\n",
       "  '253027.png'],\n",
       " 'Set14': ['pepper.png',\n",
       "  'man.png',\n",
       "  'ppt3.png',\n",
       "  'bridge.png',\n",
       "  'coastguard.png'],\n",
       " 'Set5': ['bird.png', 'head.png', 'woman.png', 'butterfly.png', 'baby.png'],\n",
       " 'Urban100': ['img_063.png',\n",
       "  'img_098.png',\n",
       "  'img_008.png',\n",
       "  'img_086.png',\n",
       "  'img_002.png']}"
      ]
     },
     "execution_count": 6,
     "metadata": {},
     "output_type": "execute_result"
    }
   ],
   "source": [
    "five_up = {}\n",
    "for i in test_images.keys():\n",
    "    five_up[i] = test_images[i][:5]\n",
    "five_up"
   ]
  },
  {
   "cell_type": "code",
   "execution_count": 7,
   "metadata": {},
   "outputs": [
    {
     "data": {
      "text/html": [
       "<div>\n",
       "<style scoped>\n",
       "    .dataframe tbody tr th:only-of-type {\n",
       "        vertical-align: middle;\n",
       "    }\n",
       "\n",
       "    .dataframe tbody tr th {\n",
       "        vertical-align: top;\n",
       "    }\n",
       "\n",
       "    .dataframe thead th {\n",
       "        text-align: right;\n",
       "    }\n",
       "</style>\n",
       "<table border=\"1\" class=\"dataframe\">\n",
       "  <thead>\n",
       "    <tr style=\"text-align: right;\">\n",
       "      <th></th>\n",
       "      <th>BSDS100</th>\n",
       "      <th>Set14</th>\n",
       "      <th>Set5</th>\n",
       "      <th>Urban100</th>\n",
       "    </tr>\n",
       "  </thead>\n",
       "  <tbody>\n",
       "    <tr>\n",
       "      <th>0</th>\n",
       "      <td>19021.png</td>\n",
       "      <td>pepper.png</td>\n",
       "      <td>bird.png</td>\n",
       "      <td>img_063.png</td>\n",
       "    </tr>\n",
       "    <tr>\n",
       "      <th>1</th>\n",
       "      <td>97033.png</td>\n",
       "      <td>man.png</td>\n",
       "      <td>head.png</td>\n",
       "      <td>img_098.png</td>\n",
       "    </tr>\n",
       "    <tr>\n",
       "      <th>2</th>\n",
       "      <td>21077.png</td>\n",
       "      <td>ppt3.png</td>\n",
       "      <td>woman.png</td>\n",
       "      <td>img_008.png</td>\n",
       "    </tr>\n",
       "    <tr>\n",
       "      <th>3</th>\n",
       "      <td>304074.png</td>\n",
       "      <td>bridge.png</td>\n",
       "      <td>butterfly.png</td>\n",
       "      <td>img_086.png</td>\n",
       "    </tr>\n",
       "    <tr>\n",
       "      <th>4</th>\n",
       "      <td>253027.png</td>\n",
       "      <td>coastguard.png</td>\n",
       "      <td>baby.png</td>\n",
       "      <td>img_002.png</td>\n",
       "    </tr>\n",
       "  </tbody>\n",
       "</table>\n",
       "</div>"
      ],
      "text/plain": [
       "      BSDS100           Set14           Set5     Urban100\n",
       "0   19021.png      pepper.png       bird.png  img_063.png\n",
       "1   97033.png         man.png       head.png  img_098.png\n",
       "2   21077.png        ppt3.png      woman.png  img_008.png\n",
       "3  304074.png      bridge.png  butterfly.png  img_086.png\n",
       "4  253027.png  coastguard.png       baby.png  img_002.png"
      ]
     },
     "execution_count": 7,
     "metadata": {},
     "output_type": "execute_result"
    }
   ],
   "source": [
    "pd.DataFrame(five_up)"
   ]
  },
  {
   "cell_type": "code",
   "execution_count": 8,
   "metadata": {},
   "outputs": [
    {
     "ename": "ValueError",
     "evalue": "invalid literal for int() with base 10: ' 30.19'",
     "output_type": "error",
     "traceback": [
      "\u001b[0;31m---------------------------------------------------------------------------\u001b[0m",
      "\u001b[0;31mValueError\u001b[0m                                Traceback (most recent call last)",
      "\u001b[0;32m<ipython-input-8-046f9186150a>\u001b[0m in \u001b[0;36m<module>\u001b[0;34m()\u001b[0m\n\u001b[1;32m      4\u001b[0m \u001b[0mtrain_log_arr\u001b[0m \u001b[0;34m=\u001b[0m \u001b[0;34m[\u001b[0m\u001b[0mi\u001b[0m \u001b[0;32mfor\u001b[0m \u001b[0mi\u001b[0m \u001b[0;32min\u001b[0m \u001b[0mtrain_log\u001b[0m\u001b[0;34m.\u001b[0m\u001b[0mread\u001b[0m\u001b[0;34m(\u001b[0m\u001b[0;34m)\u001b[0m\u001b[0;34m.\u001b[0m\u001b[0msplit\u001b[0m\u001b[0;34m(\u001b[0m\u001b[0;34m\"\\n\"\u001b[0m\u001b[0;34m)\u001b[0m \u001b[0;32mif\u001b[0m \u001b[0mi\u001b[0m\u001b[0;34m]\u001b[0m\u001b[0;34m\u001b[0m\u001b[0m\n\u001b[1;32m      5\u001b[0m \u001b[0;34m\u001b[0m\u001b[0m\n\u001b[0;32m----> 6\u001b[0;31m \u001b[0mbest_epoch\u001b[0m \u001b[0;34m=\u001b[0m \u001b[0mint\u001b[0m\u001b[0;34m(\u001b[0m\u001b[0mtrain_log_arr\u001b[0m\u001b[0;34m[\u001b[0m\u001b[0;34m-\u001b[0m\u001b[0;36m1\u001b[0m\u001b[0;34m]\u001b[0m\u001b[0;34m.\u001b[0m\u001b[0msplit\u001b[0m\u001b[0;34m(\u001b[0m\u001b[0;34m\",\"\u001b[0m\u001b[0;34m)\u001b[0m\u001b[0;34m[\u001b[0m\u001b[0;36m0\u001b[0m\u001b[0;34m]\u001b[0m\u001b[0;34m.\u001b[0m\u001b[0msplit\u001b[0m\u001b[0;34m(\u001b[0m\u001b[0;34m\":\"\u001b[0m\u001b[0;34m)\u001b[0m\u001b[0;34m[\u001b[0m\u001b[0;36m1\u001b[0m\u001b[0;34m]\u001b[0m\u001b[0;34m)\u001b[0m\u001b[0;34m\u001b[0m\u001b[0m\n\u001b[0m\u001b[1;32m      7\u001b[0m \u001b[0mtrain_log_arr\u001b[0m\u001b[0;34m[\u001b[0m\u001b[0mbest_epoch\u001b[0m\u001b[0;34m]\u001b[0m\u001b[0;34m\u001b[0m\u001b[0m\n",
      "\u001b[0;31mValueError\u001b[0m: invalid literal for int() with base 10: ' 30.19'"
     ]
    }
   ],
   "source": [
    "### get best model \n",
    "log_name = \"base.log\"\n",
    "train_log = open(\"../rdn-results/logs/\" + log_name)\n",
    "train_log_arr = [i for i in train_log.read().split(\"\\n\") if i]\n",
    "\n",
    "best_epoch = int(train_log_arr[-1].split(\",\")[0].split(\":\")[1])\n",
    "train_log_arr[best_epoch]"
   ]
  },
  {
   "cell_type": "code",
   "execution_count": 9,
   "metadata": {},
   "outputs": [],
   "source": [
    "# display learning chart "
   ]
  },
  {
   "cell_type": "code",
   "execution_count": 10,
   "metadata": {},
   "outputs": [],
   "source": [
    "def create_dict_from_train_log(line):\n",
    "    arr = line.split(\":\")\n",
    "    \n",
    "    return {arr[0] : float(arr[1])}\n",
    "    "
   ]
  },
  {
   "cell_type": "code",
   "execution_count": 11,
   "metadata": {},
   "outputs": [],
   "source": [
    "def process_train_loss_line(line):\n",
    "    loss_arr = line.split(\"[\")[-1].split(\", \")[-1].replace(\"]\", \"\").split(\"=\")\n",
    "    epoch = line.split(\":\")[1].split(\"/\")[0]\n",
    "    \n",
    "    return {\"epoch\" : epoch, loss_arr[0] : float(loss_arr[1])}\n",
    "    \n",
    "    "
   ]
  },
  {
   "cell_type": "markdown",
   "metadata": {},
   "source": [
    "### parse the training log copied from std output during training "
   ]
  },
  {
   "cell_type": "code",
   "execution_count": 12,
   "metadata": {},
   "outputs": [
    {
     "data": {
      "text/html": [
       "<div>\n",
       "<style scoped>\n",
       "    .dataframe tbody tr th:only-of-type {\n",
       "        vertical-align: middle;\n",
       "    }\n",
       "\n",
       "    .dataframe tbody tr th {\n",
       "        vertical-align: top;\n",
       "    }\n",
       "\n",
       "    .dataframe thead th {\n",
       "        text-align: right;\n",
       "    }\n",
       "</style>\n",
       "<table border=\"1\" class=\"dataframe\">\n",
       "  <thead>\n",
       "    <tr style=\"text-align: right;\">\n",
       "      <th></th>\n",
       "      <th>epoch</th>\n",
       "      <th>loss</th>\n",
       "    </tr>\n",
       "  </thead>\n",
       "  <tbody>\n",
       "    <tr>\n",
       "      <th>0</th>\n",
       "      <td>0</td>\n",
       "      <td>0.068386</td>\n",
       "    </tr>\n",
       "    <tr>\n",
       "      <th>1</th>\n",
       "      <td>1</td>\n",
       "      <td>0.035733</td>\n",
       "    </tr>\n",
       "    <tr>\n",
       "      <th>2</th>\n",
       "      <td>2</td>\n",
       "      <td>0.033469</td>\n",
       "    </tr>\n",
       "    <tr>\n",
       "      <th>3</th>\n",
       "      <td>3</td>\n",
       "      <td>0.031551</td>\n",
       "    </tr>\n",
       "    <tr>\n",
       "      <th>4</th>\n",
       "      <td>4</td>\n",
       "      <td>0.031076</td>\n",
       "    </tr>\n",
       "  </tbody>\n",
       "</table>\n",
       "</div>"
      ],
      "text/plain": [
       "  epoch      loss\n",
       "0     0  0.068386\n",
       "1     1  0.035733\n",
       "2     2  0.033469\n",
       "3     3  0.031551\n",
       "4     4  0.031076"
      ]
     },
     "execution_count": 12,
     "metadata": {},
     "output_type": "execute_result"
    }
   ],
   "source": [
    "train_log_loss = open(\"../rdn-results/logs/train-loss.log\")\n",
    "train_log_loss_arr = [process_train_loss_line(i) for i in train_log_loss.read().split(\"\\n\") if \"epoch\" in i]\n",
    "df_train_loss = pd.DataFrame(train_log_loss_arr)\n",
    "df_train_loss.head()"
   ]
  },
  {
   "cell_type": "code",
   "execution_count": 15,
   "metadata": {
    "scrolled": true
   },
   "outputs": [
    {
     "data": {
      "text/plain": [
       "<matplotlib.axes._subplots.AxesSubplot at 0x7f1b069dd668>"
      ]
     },
     "execution_count": 15,
     "metadata": {},
     "output_type": "execute_result"
    },
    {
     "data": {
      "image/png": "[encoded data removed]",
      "text/plain": [
       "<matplotlib.figure.Figure at 0x7f1b06970748>"
      ]
     },
     "metadata": {},
     "output_type": "display_data"
    }
   ],
   "source": [
    "df_train_loss[\"loss\"].plot(figsize=(15, 5))"
   ]
  },
  {
   "cell_type": "code",
   "execution_count": 14,
   "metadata": {},
   "outputs": [
    {
     "data": {
      "text/plain": [
       "<matplotlib.axes._subplots.AxesSubplot at 0x7f1b069d4908>"
      ]
     },
     "execution_count": 14,
     "metadata": {},
     "output_type": "execute_result"
    },
    {
     "data": {
      "image/png": "[encoded data removed]",
      "text/plain": [
       "<matplotlib.figure.Figure at 0x7f1b06cd4f60>"
      ]
     },
     "metadata": {},
     "output_type": "display_data"
    }
   ],
   "source": [
    "df_train_loss[df_train_loss[\"loss\"] < .04][\"loss\"].plot(figsize=(15, 5))"
   ]
  },
  {
   "cell_type": "code",
   "execution_count": 16,
   "metadata": {},
   "outputs": [],
   "source": [
    "train_log_dicts = [ create_dict_from_train_log(i) for i in train_log_arr[:-1]]"
   ]
  },
  {
   "cell_type": "code",
   "execution_count": 17,
   "metadata": {
    "scrolled": true
   },
   "outputs": [
    {
     "data": {
      "text/html": [
       "<div>\n",
       "<style scoped>\n",
       "    .dataframe tbody tr th:only-of-type {\n",
       "        vertical-align: middle;\n",
       "    }\n",
       "\n",
       "    .dataframe tbody tr th {\n",
       "        vertical-align: top;\n",
       "    }\n",
       "\n",
       "    .dataframe thead th {\n",
       "        text-align: right;\n",
       "    }\n",
       "</style>\n",
       "<table border=\"1\" class=\"dataframe\">\n",
       "  <thead>\n",
       "    <tr style=\"text-align: right;\">\n",
       "      <th></th>\n",
       "      <th>eval psnr</th>\n",
       "    </tr>\n",
       "  </thead>\n",
       "  <tbody>\n",
       "    <tr>\n",
       "      <th>0</th>\n",
       "      <td>28.01</td>\n",
       "    </tr>\n",
       "    <tr>\n",
       "      <th>1</th>\n",
       "      <td>28.84</td>\n",
       "    </tr>\n",
       "    <tr>\n",
       "      <th>2</th>\n",
       "      <td>29.03</td>\n",
       "    </tr>\n",
       "    <tr>\n",
       "      <th>3</th>\n",
       "      <td>29.09</td>\n",
       "    </tr>\n",
       "    <tr>\n",
       "      <th>4</th>\n",
       "      <td>28.99</td>\n",
       "    </tr>\n",
       "  </tbody>\n",
       "</table>\n",
       "</div>"
      ],
      "text/plain": [
       "   eval psnr\n",
       "0      28.01\n",
       "1      28.84\n",
       "2      29.03\n",
       "3      29.09\n",
       "4      28.99"
      ]
     },
     "execution_count": 17,
     "metadata": {},
     "output_type": "execute_result"
    }
   ],
   "source": [
    "train_df = pd.DataFrame(train_log_dicts)\n",
    "train_df.head()"
   ]
  },
  {
   "cell_type": "markdown",
   "metadata": {},
   "source": [
    "### progression of psnr across epochs"
   ]
  },
  {
   "cell_type": "code",
   "execution_count": 18,
   "metadata": {},
   "outputs": [
    {
     "data": {
      "text/plain": [
       "<matplotlib.axes._subplots.AxesSubplot at 0x7f1b068ffd68>"
      ]
     },
     "execution_count": 18,
     "metadata": {},
     "output_type": "execute_result"
    },
    {
     "data": {
      "image/png": "[encoded data removed]",
      "text/plain": [
       "<matplotlib.figure.Figure at 0x7f1b06978940>"
      ]
     },
     "metadata": {},
     "output_type": "display_data"
    }
   ],
   "source": [
    "train_df.plot(figsize=(15, 5))"
   ]
  },
  {
   "cell_type": "code",
   "execution_count": 19,
   "metadata": {},
   "outputs": [
    {
     "data": {
      "text/plain": [
       "(False, '../rdn-results/outputs/x4/best.pth')"
      ]
     },
     "execution_count": 19,
     "metadata": {},
     "output_type": "execute_result"
    }
   ],
   "source": [
    "weights_file = models_dir + \"best.pth\"\n",
    "\n",
    "os.path.isfile(weights_file), weights_file"
   ]
  },
  {
   "cell_type": "code",
   "execution_count": null,
   "metadata": {},
   "outputs": [],
   "source": [
    "test_results = []\n",
    "if os.path.isfile(weights_file):\n",
    "    for key in test_images.keys():\n",
    "        max_images = 0\n",
    "        print (\"testing \" + key)\n",
    "        for image in test_images[key]:\n",
    "            if not (\"_rdn_x4\" in image or \"_bicubic_x\" in image):\n",
    "                image_file = \"../\" + key + \"/\" + image\n",
    "                print(\"\\t\" +  image )\n",
    "                test_results.append(test(weights_file, image_file))\n",
    "            "
   ]
  },
  {
   "cell_type": "code",
   "execution_count": null,
   "metadata": {},
   "outputs": [],
   "source": [
    "def get_test_report(array_of_dicts, dataset):\n",
    "    this_arr = [i for i in array_of_dicts if dataset == i[\"test_set\"] ]\n",
    "    return pd.DataFrame(this_arr)"
   ]
  },
  {
   "cell_type": "code",
   "execution_count": null,
   "metadata": {},
   "outputs": [],
   "source": [
    "import json \n",
    "\n",
    "with open(\"../rdn-results/logs/test-results.json\", mode='w', encoding='utf-8') as f:\n",
    "    json.dump(test_results, f)\n"
   ]
  },
  {
   "cell_type": "code",
   "execution_count": null,
   "metadata": {},
   "outputs": [],
   "source": [
    "stats_BSDS100 = get_test_report(test_results, \"BSDS100\")"
   ]
  },
  {
   "cell_type": "code",
   "execution_count": null,
   "metadata": {},
   "outputs": [],
   "source": [
    "stats_BSDS100[\"psnr\"].describe()"
   ]
  },
  {
   "cell_type": "code",
   "execution_count": null,
   "metadata": {},
   "outputs": [],
   "source": [
    "stats_BSDS100.plot.bar(figsize=(20,5))"
   ]
  },
  {
   "cell_type": "code",
   "execution_count": null,
   "metadata": {},
   "outputs": [],
   "source": [
    "stats_Set5 = get_test_report(test_results, \"Set5\")\n",
    "stats_Set5.describe()"
   ]
  },
  {
   "cell_type": "code",
   "execution_count": null,
   "metadata": {},
   "outputs": [],
   "source": [
    "stats_Set5.plot.bar(figsize = (15,5))"
   ]
  },
  {
   "cell_type": "code",
   "execution_count": null,
   "metadata": {},
   "outputs": [],
   "source": [
    "stats_Set14 = get_test_report(test_results, \"Set14\")\n",
    "stats_Set14.describe()"
   ]
  },
  {
   "cell_type": "code",
   "execution_count": null,
   "metadata": {},
   "outputs": [],
   "source": [
    "stats_Set14.plot.bar(figsize = (15,5))"
   ]
  },
  {
   "cell_type": "code",
   "execution_count": null,
   "metadata": {},
   "outputs": [],
   "source": [
    "stats_Urban100 = get_test_report(test_results, \"Urban100\")\n",
    "stats_Urban100.describe()"
   ]
  },
  {
   "cell_type": "code",
   "execution_count": null,
   "metadata": {},
   "outputs": [],
   "source": [
    "stats_Urban100.plot.bar(figsize = (15,5))"
   ]
  },
  {
   "cell_type": "code",
   "execution_count": null,
   "metadata": {},
   "outputs": [],
   "source": []
  }
 ],
 "metadata": {
  "kernelspec": {
   "display_name": "Conda-python3",
   "language": "python",
   "name": "conda-python3"
  },
  "language_info": {
   "codemirror_mode": {
    "name": "ipython",
    "version": 3
   },
   "file_extension": ".py",
   "mimetype": "text/x-python",
   "name": "python",
   "nbconvert_exporter": "python",
   "pygments_lexer": "ipython3",
   "version": "3.6.4"
  }
 },
 "nbformat": 4,
 "nbformat_minor": 2
}
