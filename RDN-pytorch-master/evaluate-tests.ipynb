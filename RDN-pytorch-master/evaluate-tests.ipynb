{
 "cells": [
  {
   "cell_type": "code",
   "execution_count": null,
   "metadata": {},
   "outputs": [],
   "source": [
    "!pip install --upgrade pip"
   ]
  },
  {
   "cell_type": "code",
   "execution_count": null,
   "metadata": {
    "scrolled": true
   },
   "outputs": [],
   "source": [
    "!pip install -r requirements.txt"
   ]
  },
  {
   "cell_type": "code",
   "execution_count": null,
   "metadata": {},
   "outputs": [],
   "source": [
    "!pip install torch"
   ]
  },
  {
   "cell_type": "code",
   "execution_count": 1,
   "metadata": {},
   "outputs": [],
   "source": [
    "import torch\n",
    "import torch.backends.cudnn as cudnn\n",
    "import numpy as np\n",
    "import PIL.Image as pil_image\n",
    "\n",
    "from models import RDN\n",
    "\n",
    "import pandas as pd\n",
    "import os\n",
    "\n",
    "from utils import convert_rgb_to_y, denormalize, calc_psnr"
   ]
  },
  {
   "cell_type": "code",
   "execution_count": 70,
   "metadata": {},
   "outputs": [],
   "source": [
    "def test(weights_file, image_file, num_features=64, growth_rate=64, num_blocks=16, num_layers=8, scale=4):\n",
    "    cudnn.benchmark = True\n",
    "    device = torch.device('cuda:0' if torch.cuda.is_available() else 'cpu')\n",
    "\n",
    "    model = RDN(scale_factor=scale,\n",
    "                num_channels=3,\n",
    "                num_features=num_features,\n",
    "                growth_rate=growth_rate,\n",
    "                num_blocks=num_blocks,\n",
    "                num_layers=num_layers).to(device)\n",
    "\n",
    "    state_dict = model.state_dict()\n",
    "    for n, p in torch.load(weights_file, map_location=lambda storage, loc: storage).items():\n",
    "        if n in state_dict.keys():\n",
    "            state_dict[n].copy_(p)\n",
    "        else:\n",
    "            raise KeyError(n)\n",
    "\n",
    "    model.eval()\n",
    "\n",
    "    image = pil_image.open(image_file).convert('RGB')\n",
    "\n",
    "    image_width = (image.width // scale) * scale\n",
    "    image_height = (image.height // scale) * scale\n",
    "\n",
    "    hr = image.resize((image_width, image_height), resample=pil_image.BICUBIC)\n",
    "    lr = hr.resize((hr.width // scale, hr.height // scale), resample=pil_image.BICUBIC)\n",
    "    bicubic = lr.resize((lr.width * scale, lr.height * scale), resample=pil_image.BICUBIC)\n",
    "    bicubic.save(image_file.replace('.png', '_bicubic_x{}.png'.format(scale)))\n",
    "\n",
    "    lr = np.expand_dims(np.array(lr).astype(np.float32).transpose([2, 0, 1]), 0) / 255.0\n",
    "    hr = np.expand_dims(np.array(hr).astype(np.float32).transpose([2, 0, 1]), 0) / 255.0\n",
    "    lr = torch.from_numpy(lr).to(device)\n",
    "    hr = torch.from_numpy(hr).to(device)\n",
    "\n",
    "    with torch.no_grad():\n",
    "        preds = model(lr).squeeze(0)\n",
    "\n",
    "    preds_y = convert_rgb_to_y(denormalize(preds), dim_order='chw')\n",
    "    hr_y = convert_rgb_to_y(denormalize(hr.squeeze(0)), dim_order='chw')\n",
    "\n",
    "    preds_y = preds_y[scale:-scale, scale:-scale]\n",
    "    hr_y = hr_y[scale:-scale, scale:-scale]\n",
    "\n",
    "    psnr = calc_psnr(hr_y, preds_y)\n",
    "#     print('PSNR: {:.2f}'.format(psnr))\n",
    "\n",
    "    output = pil_image.fromarray(denormalize(preds).permute(1, 2, 0).byte().cpu().numpy())\n",
    "    output.save(image_file.replace('.png', '_rdn_x{}.png'.format(scale)))\n",
    "    \n",
    "    return {\n",
    "        \"test_set\" : image_file.split(\"/\")[1],\n",
    "        \"psnr\" : psnr.item()\n",
    "    }"
   ]
  },
  {
   "cell_type": "code",
   "execution_count": 3,
   "metadata": {},
   "outputs": [],
   "source": [
    "models_dir = \"../rdn-results/outputs/x4/\"\n",
    "images_dir = [\"../BSDS100/\", \"../Set5/\", \"../Set14/\", \"../Urban100/\"]"
   ]
  },
  {
   "cell_type": "code",
   "execution_count": 135,
   "metadata": {},
   "outputs": [],
   "source": [
    "test_images = {}\n",
    "for test_dir in images_dir:\n",
    "    f = []\n",
    "    for (dirpath, dirnames, filenames) in os.walk(test_dir):\n",
    "        f.extend(filenames)\n",
    "        break\n",
    "    test_images[test_dir.split(\"/\")[1]] = f"
   ]
  },
  {
   "cell_type": "code",
   "execution_count": 136,
   "metadata": {},
   "outputs": [
    {
     "data": {
      "text/plain": [
       "{'BSDS100': ['8023_bicubic_x4.png',\n",
       "  '143090.png',\n",
       "  '119082.png',\n",
       "  '8023.png',\n",
       "  '134035_rdn_x4.png',\n",
       "  '134035.png',\n",
       "  '302008.png',\n",
       "  '296007.png',\n",
       "  '304074.png',\n",
       "  '304034.png',\n",
       "  '119082_bicubic_x4.png',\n",
       "  '160068.png',\n",
       "  '145086.png',\n",
       "  '69040.png',\n",
       "  '143090_rdn_x4.png',\n",
       "  '361010.png',\n",
       "  '351093.png',\n",
       "  '12084.png',\n",
       "  '385039.png',\n",
       "  '123074.png',\n",
       "  '103070.png',\n",
       "  '37073.png',\n",
       "  '134035_bicubic_x4.png',\n",
       "  '69020.png',\n",
       "  '253027.png',\n",
       "  '45096.png',\n",
       "  '143090_bicubic_x4.png',\n",
       "  '86068.png',\n",
       "  '8023_rdn_x4.png',\n",
       "  '78004.png',\n",
       "  '109053.png',\n",
       "  '87046.png',\n",
       "  '97033.png',\n",
       "  '38082.png',\n",
       "  '241048.png',\n",
       "  '42049.png',\n",
       "  '33039.png',\n",
       "  '41069.png',\n",
       "  '260058.png',\n",
       "  '210088.png',\n",
       "  '105025.png',\n",
       "  '197017.png',\n",
       "  '299086.png',\n",
       "  '157055.png',\n",
       "  '167062.png',\n",
       "  '219090.png',\n",
       "  '296059.png',\n",
       "  '89072.png',\n",
       "  '66053.png',\n",
       "  '291000.png',\n",
       "  '76053.png',\n",
       "  '163085.png',\n",
       "  '108070.png',\n",
       "  '227092.png',\n",
       "  '208001.png',\n",
       "  '55073.png',\n",
       "  '119082_rdn_x4.png',\n",
       "  '21077.png',\n",
       "  '216081.png',\n",
       "  '148026.png',\n",
       "  '86000.png',\n",
       "  '253055.png',\n",
       "  '85048.png',\n",
       "  '223061.png',\n",
       "  '86016.png',\n",
       "  '167083.png',\n",
       "  '189080.png',\n",
       "  '38092.png',\n",
       "  '14037.png',\n",
       "  '182053.png',\n",
       "  '196073.png',\n",
       "  '271035.png',\n",
       "  '19021.png',\n",
       "  '148089.png',\n",
       "  '156065.png',\n",
       "  '236037.png',\n",
       "  '300091.png',\n",
       "  '108005.png',\n",
       "  '54082.png',\n",
       "  '306005.png',\n",
       "  '43074.png',\n",
       "  '175043.png',\n",
       "  '101085.png',\n",
       "  '3096.png',\n",
       "  '41033.png',\n",
       "  '285079.png',\n",
       "  '106024.png',\n",
       "  '62096.png',\n",
       "  '170057.png',\n",
       "  '241004.png',\n",
       "  '58060.png',\n",
       "  '147091.png',\n",
       "  '175032.png',\n",
       "  '42012.png',\n",
       "  '16077.png',\n",
       "  '65033.png',\n",
       "  '302008_bicubic_x4.png',\n",
       "  '220075.png',\n",
       "  '102061.png',\n",
       "  '295087.png',\n",
       "  '108082.png',\n",
       "  '302008_rdn_x4.png',\n",
       "  '24077.png',\n",
       "  '126007.png',\n",
       "  '101087.png',\n",
       "  '376043.png',\n",
       "  '69015.png',\n",
       "  '229036.png',\n",
       "  '159008.png',\n",
       "  '130026.png'],\n",
       " 'Set14': ['baboon_bicubic_x4.png',\n",
       "  'lenna.png',\n",
       "  'baboon.png',\n",
       "  'monarch.png',\n",
       "  'coastguard.png',\n",
       "  'coastguard_bicubic_x4.png',\n",
       "  'monarch_bicubic_x4.png',\n",
       "  'barbara.png',\n",
       "  'barbara_bicubic_x4.png',\n",
       "  'lenna_rdn_x4.png',\n",
       "  'pepper.png',\n",
       "  'coastguard_rdn_x4.png',\n",
       "  'face.png',\n",
       "  'baboon_rdn_x4.png',\n",
       "  'ppt3.png',\n",
       "  'bridge.png',\n",
       "  'comic.png',\n",
       "  'flowers.png',\n",
       "  'foreman.png',\n",
       "  'monarch_rdn_x4.png',\n",
       "  'lenna_bicubic_x4.png',\n",
       "  'zebra.png',\n",
       "  'barbara_rdn_x4.png',\n",
       "  'man.png'],\n",
       " 'Set5': ['head.png',\n",
       "  'bird_rdn_x4.png',\n",
       "  'woman.png',\n",
       "  'bird.png',\n",
       "  'head_bicubic_x4.png',\n",
       "  'woman_bicubic_x4.png',\n",
       "  'butterfly_rdn_x4.png',\n",
       "  'head_rdn_x4.png',\n",
       "  'baby_rdn_x4.png',\n",
       "  'woman_rdn_x4.png',\n",
       "  'baby.png',\n",
       "  'butterfly_bicubic_x4.png',\n",
       "  'baby_bicubic_x4.png',\n",
       "  'bird_bicubic_x4.png',\n",
       "  'butterfly.png'],\n",
       " 'Urban100': ['img_051.png',\n",
       "  'img_030_bicubic_x4.png',\n",
       "  'img_030.png',\n",
       "  'img_087.png',\n",
       "  'img_008.png',\n",
       "  'img_019.png',\n",
       "  'img_036.png',\n",
       "  'img_097.png',\n",
       "  'img_086.png',\n",
       "  'img_046.png',\n",
       "  'img_060.png',\n",
       "  'img_062.png',\n",
       "  'img_006.png',\n",
       "  'img_063.png',\n",
       "  'img_071.png',\n",
       "  'img_037.png',\n",
       "  'img_053.png',\n",
       "  'img_022.png',\n",
       "  'img_051_rdn_x4.png',\n",
       "  'img_048.png',\n",
       "  'img_003.png',\n",
       "  'img_009.png',\n",
       "  'img_098.png',\n",
       "  'img_050.png',\n",
       "  'img_047.png',\n",
       "  'img_091.png',\n",
       "  'img_042.png',\n",
       "  'img_056.png',\n",
       "  'img_080.png',\n",
       "  'img_024.png',\n",
       "  'img_055.png',\n",
       "  'img_002.png',\n",
       "  'img_043.png',\n",
       "  'img_092.png',\n",
       "  'img_052.png',\n",
       "  'img_017.png',\n",
       "  'img_040.png',\n",
       "  'img_016.png',\n",
       "  'img_049.png',\n",
       "  'img_100.png',\n",
       "  'img_020.png',\n",
       "  'img_076.png',\n",
       "  'img_032.png',\n",
       "  'img_084.png',\n",
       "  'img_075.png',\n",
       "  'img_066.png',\n",
       "  'img_088.png',\n",
       "  'img_078.png',\n",
       "  'img_029.png',\n",
       "  'img_008_bicubic_x4.png',\n",
       "  'img_077.png',\n",
       "  'img_099.png',\n",
       "  'img_087_bicubic_x4.png',\n",
       "  'img_035.png',\n",
       "  'img_039.png',\n",
       "  'img_058.png',\n",
       "  'img_019_rdn_x4.png',\n",
       "  'img_008_rdn_x4.png',\n",
       "  'img_085.png',\n",
       "  'img_073.png',\n",
       "  'img_083.png',\n",
       "  'img_007.png',\n",
       "  'img_012.png',\n",
       "  'img_081.png',\n",
       "  'img_031.png',\n",
       "  'img_026.png',\n",
       "  'img_054.png',\n",
       "  'img_074.png',\n",
       "  'img_011.png',\n",
       "  'img_001.png',\n",
       "  'img_014.png',\n",
       "  'img_019_bicubic_x4.png',\n",
       "  'img_021.png',\n",
       "  'img_069.png',\n",
       "  'img_070.png',\n",
       "  'img_094.png',\n",
       "  'img_059.png',\n",
       "  'img_061.png',\n",
       "  'img_030_rdn_x4.png',\n",
       "  'img_096.png',\n",
       "  'img_057.png',\n",
       "  'img_065.png',\n",
       "  'img_072.png',\n",
       "  'img_045.png',\n",
       "  'img_090.png',\n",
       "  'img_067.png',\n",
       "  'img_082.png',\n",
       "  'img_010.png',\n",
       "  'img_095.png',\n",
       "  'img_025.png',\n",
       "  'img_015.png',\n",
       "  'img_079.png',\n",
       "  'img_093.png',\n",
       "  'img_087_rdn_x4.png',\n",
       "  'img_034.png',\n",
       "  'img_064.png',\n",
       "  'img_068.png',\n",
       "  'img_089.png',\n",
       "  'img_023.png',\n",
       "  'img_041.png',\n",
       "  'img_033.png',\n",
       "  'img_013.png',\n",
       "  'img_028.png',\n",
       "  'img_005.png',\n",
       "  'img_004.png',\n",
       "  'img_018.png',\n",
       "  'img_044.png',\n",
       "  'img_051_bicubic_x4.png',\n",
       "  'img_038.png',\n",
       "  'img_027.png']}"
      ]
     },
     "execution_count": 136,
     "metadata": {},
     "output_type": "execute_result"
    }
   ],
   "source": [
    "test_images"
   ]
  },
  {
   "cell_type": "code",
   "execution_count": 137,
   "metadata": {},
   "outputs": [
    {
     "data": {
      "text/plain": [
       "{'BSDS100': ['8023_bicubic_x4.png',\n",
       "  '143090.png',\n",
       "  '119082.png',\n",
       "  '8023.png',\n",
       "  '134035_rdn_x4.png'],\n",
       " 'Set14': ['baboon_bicubic_x4.png',\n",
       "  'lenna.png',\n",
       "  'baboon.png',\n",
       "  'monarch.png',\n",
       "  'coastguard.png'],\n",
       " 'Set5': ['head.png',\n",
       "  'bird_rdn_x4.png',\n",
       "  'woman.png',\n",
       "  'bird.png',\n",
       "  'head_bicubic_x4.png'],\n",
       " 'Urban100': ['img_051.png',\n",
       "  'img_030_bicubic_x4.png',\n",
       "  'img_030.png',\n",
       "  'img_087.png',\n",
       "  'img_008.png']}"
      ]
     },
     "execution_count": 137,
     "metadata": {},
     "output_type": "execute_result"
    }
   ],
   "source": [
    "five_up = {}\n",
    "for i in test_images.keys():\n",
    "    five_up[i] = test_images[i][:5]\n",
    "five_up"
   ]
  },
  {
   "cell_type": "code",
   "execution_count": 138,
   "metadata": {},
   "outputs": [
    {
     "data": {
      "text/html": [
       "<div>\n",
       "<style scoped>\n",
       "    .dataframe tbody tr th:only-of-type {\n",
       "        vertical-align: middle;\n",
       "    }\n",
       "\n",
       "    .dataframe tbody tr th {\n",
       "        vertical-align: top;\n",
       "    }\n",
       "\n",
       "    .dataframe thead th {\n",
       "        text-align: right;\n",
       "    }\n",
       "</style>\n",
       "<table border=\"1\" class=\"dataframe\">\n",
       "  <thead>\n",
       "    <tr style=\"text-align: right;\">\n",
       "      <th></th>\n",
       "      <th>BSDS100</th>\n",
       "      <th>Set14</th>\n",
       "      <th>Set5</th>\n",
       "      <th>Urban100</th>\n",
       "    </tr>\n",
       "  </thead>\n",
       "  <tbody>\n",
       "    <tr>\n",
       "      <th>0</th>\n",
       "      <td>8023_bicubic_x4.png</td>\n",
       "      <td>baboon_bicubic_x4.png</td>\n",
       "      <td>head.png</td>\n",
       "      <td>img_051.png</td>\n",
       "    </tr>\n",
       "    <tr>\n",
       "      <th>1</th>\n",
       "      <td>143090.png</td>\n",
       "      <td>lenna.png</td>\n",
       "      <td>bird_rdn_x4.png</td>\n",
       "      <td>img_030_bicubic_x4.png</td>\n",
       "    </tr>\n",
       "    <tr>\n",
       "      <th>2</th>\n",
       "      <td>119082.png</td>\n",
       "      <td>baboon.png</td>\n",
       "      <td>woman.png</td>\n",
       "      <td>img_030.png</td>\n",
       "    </tr>\n",
       "    <tr>\n",
       "      <th>3</th>\n",
       "      <td>8023.png</td>\n",
       "      <td>monarch.png</td>\n",
       "      <td>bird.png</td>\n",
       "      <td>img_087.png</td>\n",
       "    </tr>\n",
       "    <tr>\n",
       "      <th>4</th>\n",
       "      <td>134035_rdn_x4.png</td>\n",
       "      <td>coastguard.png</td>\n",
       "      <td>head_bicubic_x4.png</td>\n",
       "      <td>img_008.png</td>\n",
       "    </tr>\n",
       "  </tbody>\n",
       "</table>\n",
       "</div>"
      ],
      "text/plain": [
       "               BSDS100                  Set14                 Set5  \\\n",
       "0  8023_bicubic_x4.png  baboon_bicubic_x4.png             head.png   \n",
       "1           143090.png              lenna.png      bird_rdn_x4.png   \n",
       "2           119082.png             baboon.png            woman.png   \n",
       "3             8023.png            monarch.png             bird.png   \n",
       "4    134035_rdn_x4.png         coastguard.png  head_bicubic_x4.png   \n",
       "\n",
       "                 Urban100  \n",
       "0             img_051.png  \n",
       "1  img_030_bicubic_x4.png  \n",
       "2             img_030.png  \n",
       "3             img_087.png  \n",
       "4             img_008.png  "
      ]
     },
     "execution_count": 138,
     "metadata": {},
     "output_type": "execute_result"
    }
   ],
   "source": [
    "pd.DataFrame(five_up)"
   ]
  },
  {
   "cell_type": "code",
   "execution_count": 117,
   "metadata": {},
   "outputs": [
    {
     "data": {
      "text/plain": [
       "'eval psnr: 30.08'"
      ]
     },
     "execution_count": 117,
     "metadata": {},
     "output_type": "execute_result"
    }
   ],
   "source": [
    "### get best model \n",
    "log_name = \"base.log\"\n",
    "train_log = open(\"../rdn-results/logs/\" + log_name)\n",
    "train_log_arr = [i for i in train_log.read().split(\"\\n\") if i]\n",
    "\n",
    "best_epoch = int(train_log_arr[-1].split(\",\")[0].split(\":\")[1])\n",
    "train_log_arr[best_epoch]"
   ]
  },
  {
   "cell_type": "code",
   "execution_count": 118,
   "metadata": {},
   "outputs": [],
   "source": [
    "# display learning chart "
   ]
  },
  {
   "cell_type": "code",
   "execution_count": 120,
   "metadata": {},
   "outputs": [],
   "source": [
    "def create_dict_from_train_log(line):\n",
    "    arr = line.split(\":\")\n",
    "    \n",
    "    return {arr[0] : float(arr[1])}\n",
    "    "
   ]
  },
  {
   "cell_type": "code",
   "execution_count": 121,
   "metadata": {},
   "outputs": [],
   "source": [
    "def process_train_loss_line(line):\n",
    "    loss_arr = line.split(\"[\")[-1].split(\", \")[-1].replace(\"]\", \"\").split(\"=\")\n",
    "    epoch = line.split(\":\")[1].split(\"/\")[0]\n",
    "    \n",
    "    return {\"epoch\" : epoch, loss_arr[0] : float(loss_arr[1])}\n",
    "    \n",
    "    "
   ]
  },
  {
   "cell_type": "markdown",
   "metadata": {},
   "source": [
    "### parse the training log copied from std output during training "
   ]
  },
  {
   "cell_type": "code",
   "execution_count": 122,
   "metadata": {},
   "outputs": [
    {
     "data": {
      "text/html": [
       "<div>\n",
       "<style scoped>\n",
       "    .dataframe tbody tr th:only-of-type {\n",
       "        vertical-align: middle;\n",
       "    }\n",
       "\n",
       "    .dataframe tbody tr th {\n",
       "        vertical-align: top;\n",
       "    }\n",
       "\n",
       "    .dataframe thead th {\n",
       "        text-align: right;\n",
       "    }\n",
       "</style>\n",
       "<table border=\"1\" class=\"dataframe\">\n",
       "  <thead>\n",
       "    <tr style=\"text-align: right;\">\n",
       "      <th></th>\n",
       "      <th>epoch</th>\n",
       "      <th>loss</th>\n",
       "    </tr>\n",
       "  </thead>\n",
       "  <tbody>\n",
       "    <tr>\n",
       "      <th>0</th>\n",
       "      <td>0</td>\n",
       "      <td>0.078935</td>\n",
       "    </tr>\n",
       "    <tr>\n",
       "      <th>1</th>\n",
       "      <td>1</td>\n",
       "      <td>0.038575</td>\n",
       "    </tr>\n",
       "    <tr>\n",
       "      <th>2</th>\n",
       "      <td>2</td>\n",
       "      <td>0.036490</td>\n",
       "    </tr>\n",
       "    <tr>\n",
       "      <th>3</th>\n",
       "      <td>3</td>\n",
       "      <td>0.034232</td>\n",
       "    </tr>\n",
       "    <tr>\n",
       "      <th>4</th>\n",
       "      <td>4</td>\n",
       "      <td>0.032773</td>\n",
       "    </tr>\n",
       "  </tbody>\n",
       "</table>\n",
       "</div>"
      ],
      "text/plain": [
       "  epoch      loss\n",
       "0     0  0.078935\n",
       "1     1  0.038575\n",
       "2     2  0.036490\n",
       "3     3  0.034232\n",
       "4     4  0.032773"
      ]
     },
     "execution_count": 122,
     "metadata": {},
     "output_type": "execute_result"
    }
   ],
   "source": [
    "train_log_loss = open(\"../rdn-results/logs/training-loss.log\")\n",
    "train_log_loss_arr = [process_train_loss_line(i) for i in train_log_loss.read().split(\"\\n\") if \"epoch\" in i]\n",
    "df_train_loss = pd.DataFrame(train_log_loss_arr)\n",
    "df_train_loss.head()"
   ]
  },
  {
   "cell_type": "code",
   "execution_count": 123,
   "metadata": {
    "scrolled": true
   },
   "outputs": [
    {
     "data": {
      "text/plain": [
       "<matplotlib.axes._subplots.AxesSubplot at 0x7fd6f02dc6a0>"
      ]
     },
     "execution_count": 123,
     "metadata": {},
     "output_type": "execute_result"
    },
    {
     "data": {
      "image/png": "[encoded data removed]",
      "text/plain": [
       "<matplotlib.figure.Figure at 0x7fd6f0609ef0>"
      ]
     },
     "metadata": {},
     "output_type": "display_data"
    }
   ],
   "source": [
    "df_train_loss[\"loss\"].plot(figsize=(15, 5))"
   ]
  },
  {
   "cell_type": "code",
   "execution_count": 124,
   "metadata": {},
   "outputs": [
    {
     "data": {
      "text/plain": [
       "<matplotlib.axes._subplots.AxesSubplot at 0x7fd6f02f3438>"
      ]
     },
     "execution_count": 124,
     "metadata": {},
     "output_type": "execute_result"
    },
    {
     "data": {
      "image/png": "[encoded data removed]",
      "text/plain": [
       "<matplotlib.figure.Figure at 0x7fd6f03ad780>"
      ]
     },
     "metadata": {},
     "output_type": "display_data"
    }
   ],
   "source": [
    "df_train_loss[df_train_loss[\"loss\"] < 1.0][\"loss\"].plot(figsize=(15, 5))"
   ]
  },
  {
   "cell_type": "code",
   "execution_count": 125,
   "metadata": {},
   "outputs": [],
   "source": [
    "train_log_dicts = [ create_dict_from_train_log(i) for i in train_log_arr[:-1]]"
   ]
  },
  {
   "cell_type": "code",
   "execution_count": 126,
   "metadata": {
    "scrolled": true
   },
   "outputs": [
    {
     "data": {
      "text/html": [
       "<div>\n",
       "<style scoped>\n",
       "    .dataframe tbody tr th:only-of-type {\n",
       "        vertical-align: middle;\n",
       "    }\n",
       "\n",
       "    .dataframe tbody tr th {\n",
       "        vertical-align: top;\n",
       "    }\n",
       "\n",
       "    .dataframe thead th {\n",
       "        text-align: right;\n",
       "    }\n",
       "</style>\n",
       "<table border=\"1\" class=\"dataframe\">\n",
       "  <thead>\n",
       "    <tr style=\"text-align: right;\">\n",
       "      <th></th>\n",
       "      <th>eval psnr</th>\n",
       "    </tr>\n",
       "  </thead>\n",
       "  <tbody>\n",
       "    <tr>\n",
       "      <th>0</th>\n",
       "      <td>28.55</td>\n",
       "    </tr>\n",
       "    <tr>\n",
       "      <th>1</th>\n",
       "      <td>28.70</td>\n",
       "    </tr>\n",
       "    <tr>\n",
       "      <th>2</th>\n",
       "      <td>25.87</td>\n",
       "    </tr>\n",
       "    <tr>\n",
       "      <th>3</th>\n",
       "      <td>28.93</td>\n",
       "    </tr>\n",
       "    <tr>\n",
       "      <th>4</th>\n",
       "      <td>28.70</td>\n",
       "    </tr>\n",
       "  </tbody>\n",
       "</table>\n",
       "</div>"
      ],
      "text/plain": [
       "   eval psnr\n",
       "0      28.55\n",
       "1      28.70\n",
       "2      25.87\n",
       "3      28.93\n",
       "4      28.70"
      ]
     },
     "execution_count": 126,
     "metadata": {},
     "output_type": "execute_result"
    }
   ],
   "source": [
    "train_df = pd.DataFrame(train_log_dicts)\n",
    "train_df.head()"
   ]
  },
  {
   "cell_type": "markdown",
   "metadata": {},
   "source": [
    "### progression of psnr across epochs"
   ]
  },
  {
   "cell_type": "code",
   "execution_count": 127,
   "metadata": {},
   "outputs": [
    {
     "data": {
      "text/plain": [
       "<matplotlib.axes._subplots.AxesSubplot at 0x7fd6f01b5c50>"
      ]
     },
     "execution_count": 127,
     "metadata": {},
     "output_type": "execute_result"
    },
    {
     "data": {
      "image/png": "[encoded data removed]",
      "text/plain": [
       "<matplotlib.figure.Figure at 0x7fd6f01b3710>"
      ]
     },
     "metadata": {},
     "output_type": "display_data"
    }
   ],
   "source": [
    "train_df.plot(figsize=(15, 5))"
   ]
  },
  {
   "cell_type": "code",
   "execution_count": 128,
   "metadata": {},
   "outputs": [
    {
     "data": {
      "text/plain": [
       "(True, '../rdn-results/outputs/x4/best.pth')"
      ]
     },
     "execution_count": 128,
     "metadata": {},
     "output_type": "execute_result"
    }
   ],
   "source": [
    "weights_file = models_dir + \"best.pth\"\n",
    "\n",
    "os.path.isfile(weights_file), weights_file"
   ]
  },
  {
   "cell_type": "code",
   "execution_count": null,
   "metadata": {},
   "outputs": [
    {
     "name": "stdout",
     "output_type": "stream",
     "text": [
      "testing BSDS100\n",
      "\t143090.png\n",
      "\t119082.png\n",
      "\t8023.png\n",
      "\t134035.png\n",
      "\t302008.png\n",
      "\t296007.png\n",
      "\t304074.png\n",
      "\t304034.png\n",
      "\t160068.png\n",
      "\t145086.png\n",
      "\t69040.png\n",
      "\t361010.png\n",
      "\t351093.png\n",
      "\t12084.png\n",
      "\t385039.png\n",
      "\t123074.png\n",
      "\t103070.png\n",
      "\t37073.png\n",
      "\t69020.png\n",
      "\t253027.png\n",
      "\t45096.png\n",
      "\t86068.png\n",
      "\t78004.png\n",
      "\t109053.png\n",
      "\t87046.png\n",
      "\t97033.png\n",
      "\t38082.png\n",
      "\t241048.png\n",
      "\t42049.png\n",
      "\t33039.png\n",
      "\t41069.png\n",
      "\t260058.png\n",
      "\t210088.png\n",
      "\t105025.png\n",
      "\t197017.png\n",
      "\t299086.png\n",
      "\t157055.png\n",
      "\t167062.png\n",
      "\t219090.png\n",
      "\t296059.png\n",
      "\t89072.png\n",
      "\t66053.png\n",
      "\t291000.png\n",
      "\t76053.png\n",
      "\t163085.png\n",
      "\t108070.png\n",
      "\t227092.png\n",
      "\t208001.png\n",
      "\t55073.png\n",
      "\t21077.png\n",
      "\t216081.png\n",
      "\t148026.png\n",
      "\t86000.png\n",
      "\t253055.png\n",
      "\t85048.png\n",
      "\t223061.png\n",
      "\t86016.png\n",
      "\t167083.png\n",
      "\t189080.png\n",
      "\t38092.png\n",
      "\t14037.png\n",
      "\t182053.png\n",
      "\t196073.png\n",
      "\t271035.png\n",
      "\t19021.png\n",
      "\t148089.png\n",
      "\t156065.png\n",
      "\t236037.png\n",
      "\t300091.png\n",
      "\t108005.png\n",
      "\t54082.png\n",
      "\t306005.png\n",
      "\t43074.png\n",
      "\t175043.png\n",
      "\t101085.png\n",
      "\t3096.png\n",
      "\t41033.png\n",
      "\t285079.png\n",
      "\t106024.png\n",
      "\t62096.png\n",
      "\t170057.png\n",
      "\t241004.png\n",
      "\t58060.png\n",
      "\t147091.png\n",
      "\t175032.png\n",
      "\t42012.png\n",
      "\t16077.png\n",
      "\t65033.png\n",
      "\t220075.png\n",
      "\t102061.png\n",
      "\t295087.png\n",
      "\t108082.png\n",
      "\t24077.png\n",
      "\t126007.png\n",
      "\t101087.png\n",
      "\t376043.png\n",
      "\t69015.png\n",
      "\t229036.png\n",
      "\t159008.png\n",
      "\t130026.png\n",
      "testing Set5\n",
      "\thead.png\n",
      "\twoman.png\n",
      "\tbird.png\n",
      "\tbaby.png\n",
      "\tbutterfly.png\n",
      "testing Set14\n",
      "\tlenna.png\n",
      "\tbaboon.png\n",
      "\tmonarch.png\n",
      "\tcoastguard.png\n",
      "\tbarbara.png\n",
      "\tpepper.png\n",
      "\tface.png\n",
      "\tppt3.png\n",
      "\tbridge.png\n",
      "\tcomic.png\n",
      "\tflowers.png\n",
      "\tforeman.png\n",
      "\tzebra.png\n",
      "\tman.png\n",
      "testing Urban100\n",
      "\timg_051.png\n",
      "\timg_030.png\n",
      "\timg_087.png\n",
      "\timg_008.png\n",
      "\timg_019.png\n",
      "\timg_036.png\n",
      "\timg_097.png\n",
      "\timg_086.png\n",
      "\timg_046.png\n",
      "\timg_060.png\n",
      "\timg_062.png\n",
      "\timg_006.png\n",
      "\timg_063.png\n",
      "\timg_071.png\n",
      "\timg_037.png\n",
      "\timg_053.png\n",
      "\timg_022.png\n",
      "\timg_048.png\n",
      "\timg_003.png\n",
      "\timg_009.png\n",
      "\timg_098.png\n",
      "\timg_050.png\n",
      "\timg_047.png\n",
      "\timg_091.png\n",
      "\timg_042.png\n",
      "\timg_056.png\n",
      "\timg_080.png\n",
      "\timg_024.png\n",
      "\timg_055.png\n",
      "\timg_002.png\n",
      "\timg_043.png\n",
      "\timg_092.png\n",
      "\timg_052.png\n",
      "\timg_017.png\n",
      "\timg_040.png\n",
      "\timg_016.png\n",
      "\timg_049.png\n",
      "\timg_100.png\n",
      "\timg_020.png\n",
      "\timg_076.png\n",
      "\timg_032.png\n",
      "\timg_084.png\n",
      "\timg_075.png\n",
      "\timg_085.png\n",
      "\timg_073.png\n",
      "\timg_083.png\n",
      "\timg_007.png\n",
      "\timg_012.png\n",
      "\timg_081.png\n",
      "\timg_031.png\n",
      "\timg_026.png\n",
      "\timg_054.png\n",
      "\timg_074.png\n",
      "\timg_011.png\n",
      "\timg_001.png\n",
      "\timg_014.png\n",
      "\timg_021.png\n",
      "\timg_069.png\n",
      "\timg_070.png\n",
      "\timg_094.png\n",
      "\timg_059.png\n",
      "\timg_061.png\n",
      "\timg_096.png\n",
      "\timg_057.png\n",
      "\timg_065.png\n",
      "\timg_072.png\n",
      "\timg_045.png\n",
      "\timg_090.png\n",
      "\timg_067.png\n",
      "\timg_082.png\n",
      "\timg_010.png\n",
      "\timg_095.png\n",
      "\timg_025.png\n",
      "\timg_015.png\n",
      "\timg_079.png\n",
      "\timg_093.png\n",
      "\timg_034.png\n",
      "\timg_064.png\n",
      "\timg_068.png\n",
      "\timg_089.png\n",
      "\timg_023.png\n",
      "\timg_041.png\n",
      "\timg_033.png\n",
      "\timg_013.png\n",
      "\timg_028.png\n",
      "\timg_005.png\n",
      "\timg_004.png\n"
     ]
    }
   ],
   "source": [
    "test_results = []\n",
    "if os.path.isfile(weights_file):\n",
    "    for key in test_images.keys():\n",
    "        max_images = 0\n",
    "        print (\"testing \" + key)\n",
    "        for image in test_images[key]:\n",
    "            if not (\"_rdn_x4\" in image or \"_bicubic_x\" in image):\n",
    "                image_file = \"../\" + key + \"/\" + image\n",
    "                print(\"\\t\" +  image )\n",
    "                test_results.append(test(weights_file, image_file))\n",
    "            "
   ]
  },
  {
   "cell_type": "code",
   "execution_count": null,
   "metadata": {},
   "outputs": [],
   "source": [
    "def get_test_report(array_of_dicts, dataset):\n",
    "    this_arr = [i[\"psnr\"] for i in array_of_dicts if dataset == i[\"test_set\"] ]\n",
    "    return pd.DataFrame(this_arr)"
   ]
  },
  {
   "cell_type": "code",
   "execution_count": null,
   "metadata": {},
   "outputs": [],
   "source": [
    "stats_BSDS100 = get_test_report(test_results, \"BSDS100\")\n",
    "stats_BSDS100"
   ]
  },
  {
   "cell_type": "code",
   "execution_count": null,
   "metadata": {},
   "outputs": [],
   "source": [
    "stats_BSDS100.describe()"
   ]
  },
  {
   "cell_type": "code",
   "execution_count": null,
   "metadata": {},
   "outputs": [],
   "source": [
    "stats_Set5 = get_test_report(test_results, \"Set5\")\n",
    "stats_Set5.describe()"
   ]
  },
  {
   "cell_type": "code",
   "execution_count": null,
   "metadata": {},
   "outputs": [],
   "source": [
    "stats_Set14 = get_test_report(test_results, \"Set14\")\n",
    "stats_Set14.describe()"
   ]
  },
  {
   "cell_type": "code",
   "execution_count": null,
   "metadata": {},
   "outputs": [],
   "source": [
    "stats_Urban100 = get_test_report(test_results, \"Urban100\")\n",
    "stats_Urban100.describe()"
   ]
  },
  {
   "cell_type": "code",
   "execution_count": null,
   "metadata": {},
   "outputs": [],
   "source": []
  }
 ],
 "metadata": {
  "kernelspec": {
   "display_name": "Conda-python3",
   "language": "python",
   "name": "conda-python3"
  },
  "language_info": {
   "codemirror_mode": {
    "name": "ipython",
    "version": 3
   },
   "file_extension": ".py",
   "mimetype": "text/x-python",
   "name": "python",
   "nbconvert_exporter": "python",
   "pygments_lexer": "ipython3",
   "version": "3.6.4"
  }
 },
 "nbformat": 4,
 "nbformat_minor": 2
}
