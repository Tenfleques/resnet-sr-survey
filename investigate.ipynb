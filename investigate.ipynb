{
 "cells": [
  {
   "cell_type": "code",
   "execution_count": 9,
   "metadata": {},
   "outputs": [
    {
     "name": "stdout",
     "output_type": "stream",
     "text": [
      "DIV2\t\t\t investigate.ipynb\t requirements.txt\n",
      "download_datasets.ipynb  RDN-pytorch-master\t Set5_x4.h5\n",
      "EDSR-PyTorch-master\t RDN-pytorch-master.zip\n",
      "EDSR-PyTorch-master.zip  rdn-results\n",
      "Collecting pip\n",
      "  Downloading http://repo.myhuaweicloud.com/repository/pypi/packages/00/b6/9cfa56b4081ad13874b0c6f96af8ce16cfbc1cb06bedf8e9164ce5551ec1/pip-19.3.1-py2.py3-none-any.whl (1.4MB)\n",
      "\u001b[K    100% |████████████████████████████████| 1.4MB 60.1MB/s ta 0:00:011��███▊   | 1.3MB 91.0MB/s eta 0:00:01\n",
      "\u001b[?25hInstalling collected packages: pip\n",
      "  Found existing installation: pip 9.0.1\n",
      "    Uninstalling pip-9.0.1:\n",
      "      Successfully uninstalled pip-9.0.1\n",
      "Successfully installed pip-19.3.1\n",
      "Looking in indexes: http://repo.myhuaweicloud.com/repository/pypi/simple\n",
      "Requirement already satisfied: Numpy>=1.15.4 in /home/ma-user/anaconda3/envs/Pytorch-1.0.0/lib/python3.6/site-packages (from -r requirements.txt (line 1)) (1.17.4)\n",
      "Requirement already satisfied: Pillow>=5.4.1 in /home/ma-user/anaconda3/envs/Pytorch-1.0.0/lib/python3.6/site-packages (from -r requirements.txt (line 2)) (6.2.1)\n",
      "Requirement already satisfied: h5py>=2.8.0 in /home/ma-user/anaconda3/envs/Pytorch-1.0.0/lib/python3.6/site-packages (from -r requirements.txt (line 3)) (2.8.0)\n",
      "Requirement already satisfied: tqdm>=4.30.0 in /home/ma-user/anaconda3/envs/Pytorch-1.0.0/lib/python3.6/site-packages (from -r requirements.txt (line 4)) (4.40.2)\n",
      "Requirement already satisfied: six in /home/ma-user/anaconda3/envs/Pytorch-1.0.0/lib/python3.6/site-packages (from h5py>=2.8.0->-r requirements.txt (line 3)) (1.11.0)\n"
     ]
    }
   ],
   "source": [
    "!ls\n",
    "!pip install --upgrade pip\n",
    "!pip install -r requirements.txt"
   ]
  },
  {
   "cell_type": "code",
   "execution_count": null,
   "metadata": {},
   "outputs": [],
   "source": [
    "!python RDN-pytorch-master/prepare.py --images-dir ./DIV2K/DIV2K_train_HR/ --output-path ./DIV2K/DIV2K_train_x4.h5"
   ]
  },
  {
   "cell_type": "code",
   "execution_count": null,
   "metadata": {},
   "outputs": [],
   "source": [
    "!python RDN-pytorch-master/prepare.py --images-dir ./DIV2K/DIV2K_valid_HR/ --output-path ./DIV2K/DIV2K_eval_x4.h5"
   ]
  },
  {
   "cell_type": "code",
   "execution_count": null,
   "metadata": {},
   "outputs": [],
   "source": [
    "!python RDN-pytorch-master/train.py --train-file \"./DIV2K/DIV2K_train_x4.h5\" \\\n",
    "                --eval-file \"./DIV2K/DIV2K_eval_x4.h5\" \\\n",
    "                --outputs-dir \"./rdn-results/outputs\" \\\n",
    "                --scale 4 \\\n",
    "                --num-features 64 \\\n",
    "                --growth-rate 64 \\\n",
    "                --num-blocks 16 \\\n",
    "                --num-layers 8 \\\n",
    "                --lr 1e-4 \\\n",
    "                --batch-size 16 \\\n",
    "                --patch-size 32 \\\n",
    "                --num-epochs 800 \\\n",
    "                --num-workers 8 \\\n",
    "                --seed 123 \\\n",
    "                > ./rdn-results/logs/base.log"
   ]
  },
  {
   "cell_type": "code",
   "execution_count": null,
   "metadata": {},
   "outputs": [],
   "source": []
  }
 ],
 "metadata": {
  "kernelspec": {
   "display_name": "Pytorch-1.0.0",
   "language": "python",
   "name": "pytorch-1.0.0"
  },
  "language_info": {
   "codemirror_mode": {
    "name": "ipython",
    "version": 3
   },
   "file_extension": ".py",
   "mimetype": "text/x-python",
   "name": "python",
   "nbconvert_exporter": "python",
   "pygments_lexer": "ipython3",
   "version": "3.6.4"
  }
 },
 "nbformat": 4,
 "nbformat_minor": 2
}
